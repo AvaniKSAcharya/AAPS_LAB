{
  "nbformat": 4,
  "nbformat_minor": 0,
  "metadata": {
    "kernelspec": {
      "display_name": "R",
      "language": "R",
      "name": "ir"
    },
    "language_info": {
      "codemirror_mode": "r",
      "file_extension": ".r",
      "mimetype": "text/x-r-source",
      "name": "R",
      "pygments_lexer": "r",
      "version": "3.3.1"
    },
    "colab": {
      "name": "AML5201_IntroLinearAlgebra_R.ipynb",
      "provenance": [],
      "collapsed_sections": []
    }
  },
  "cells": [
    {
      "cell_type": "markdown",
      "metadata": {
        "id": "m_0IeRbLGWjA"
      },
      "source": [
        "**Install packages**"
      ]
    },
    {
      "cell_type": "code",
      "metadata": {
        "id": "aLeB1yyiGTUJ"
      },
      "source": [
        "install.packages(\"UsingR\")"
      ],
      "execution_count": null,
      "outputs": []
    },
    {
      "cell_type": "markdown",
      "metadata": {
        "id": "9s6xDveCGSjt"
      },
      "source": [
        ""
      ]
    },
    {
      "cell_type": "markdown",
      "metadata": {
        "id": "cBwU1D1ib2o6"
      },
      "source": [
        "**Load essential libraries**"
      ]
    },
    {
      "cell_type": "code",
      "metadata": {
        "id": "4DhQTLweb138"
      },
      "source": [
        "library(ggplot2) # library for plotting\n",
        "library(dplyr) # library for data wrangling\n",
        "library(UsingR)"
      ],
      "execution_count": null,
      "outputs": []
    },
    {
      "cell_type": "markdown",
      "metadata": {
        "id": "1EEgU6NkbRDV"
      },
      "source": [
        "**Data Matrix**\n",
        "\n",
        "Patient dataset corresponding to 4 patients and 3 features:\n",
        "\n",
        "![Patient dataset](https://bl3302files.storage.live.com/y4mlspYO-L_1kEGpBOCUilkrcj3evQtgjGXDt6v2NgJwtsJf2OZVnwRnUht7CmW_wk8VMlMyGfhDqgRubB3pLHXAOe3r-pQ5wtYUuOqR_gsZzHWCqE2IEbhBjUZob5suLplmONyMsAjr1twDPK7eGODrKyav1dP1aX3lWx1YV0hiLvuTEZ7-GujIypTMkaSV2or?width=256&height=153&cropmode=none)"
      ]
    },
    {
      "cell_type": "code",
      "metadata": {
        "id": "zeAhzu_1bNR1"
      },
      "source": [
        "# Create dataframe with 3 columns\n",
        "HR = c(76, 74, 72, 78)\n",
        "BP = c(126, 120, 118, 136)\n",
        "Temp = c(38, 38, 37.5, 37)\n",
        "pData = data.frame(HR, BP, Temp)\n",
        "print(pData)\n",
        "cat(sprintf('---------------------\\n'))\n",
        "\n",
        "# Convert dataframe to matrix\n",
        "P = as.matrix(pData)\n",
        "print(dim(P))\n",
        "cat(sprintf('---------------------\\n'))\n",
        "print(P)"
      ],
      "execution_count": null,
      "outputs": []
    },
    {
      "cell_type": "markdown",
      "metadata": {
        "id": "3tmYJPn3cIau"
      },
      "source": [
        "**Vectors from the data matrix**\n",
        "\n",
        "![Patient dataset](https://bl3302files.storage.live.com/y4mTMCQdiTnIFj1IALg09CRz7pPWl0g4HpigAPbwyMmF0QNliGAgK3aEsBESo0BNFCy-0-kR6pllskO1DPVt2-76bYsQaACRWhkOebqJ545BbtWcGr1CJG72BZJPrYbQDWNAC0h1EHhpewBlORT_xtahEu-bite73OVi-4CzGeQf6GDw11H6kn72VocdC2bLAsJ?width=256&height=167&cropmode=none)\n",
        "\n",
        "1st feature vector (heart rate) for all patients:\n",
        "$$p_1 = \\begin{bmatrix}76\\\\74\\\\72\\\\78\\end{bmatrix}$$\n",
        "\n",
        "1st patient vector for all features:\n",
        "$$p^{(1)} = \\begin{bmatrix}76\\\\126\\\\38\\end{bmatrix}$$"
      ]
    },
    {
      "cell_type": "code",
      "metadata": {
        "id": "C62amevicGwl"
      },
      "source": [
        "# Vector for 1st feature (HR)\n",
        "p_1 = P[, 1]\n",
        "print(p_1)\n",
        "cat(sprintf('\\n'))\n",
        "\n",
        "# Vector for 2nd feature (BP)\n",
        "p_2 =P[, 2]\n",
        "print(p_2)\n",
        "cat(sprintf('\\n'))\n",
        "\n",
        "# Vector for 1st patient\n",
        "p1 = P[1, ]\n",
        "print(p1)\n",
        "cat(sprintf('\\n'))\n",
        "\n",
        "# Vector for 2nd patient\n",
        "p2 = P[2, ]\n",
        "print(p2)"
      ],
      "execution_count": null,
      "outputs": []
    },
    {
      "cell_type": "code",
      "metadata": {
        "id": "MXUaXCVxiBB4"
      },
      "source": [
        "str(p_1)\n",
        "str(p1)\n",
        "dim(p_1)\n",
        "dim(p1)\n",
        "length(p_1)\n",
        "length(p1)"
      ],
      "execution_count": null,
      "outputs": []
    },
    {
      "cell_type": "markdown",
      "metadata": {
        "id": "ZegKerPAsN3R"
      },
      "source": [
        "**Components of a vector and matrix**\n",
        "\n",
        "The components of a vector $a$ are denoted as $a_1,a_2,\\ldots.$\n",
        "\n",
        "The component in the $i$th row and $j$th column of a matrix is $P$ is represented as $p_{ij}.$\n",
        "\n",
        "2nd patient, 1st feature (heart rate) value is $p^{(2)}_1.$\n",
        "\n",
        "1st feature (heart rate), 2nd patient value is $\\left(p_1\\right)_2.$\n",
        "\n",
        "\n"
      ]
    },
    {
      "cell_type": "code",
      "metadata": {
        "id": "JbuPTkD2sYpM"
      },
      "source": [
        "# 2nd patient vector\n",
        "p2 = P[2, ]\n",
        "\n",
        "# 1st feature (heart rate) vector\n",
        "p_1 = P[, 1]\n",
        "\n",
        "# 2nd patient, 1st feature (heart rate) value\n",
        "print(p2[1])\n",
        "cat(sprintf('\\n'))\n",
        "\n",
        "# 1st feature (heart rate), 2nd patient value\n",
        "print(p_1[2])\n",
        "cat(sprintf('\\n'))\n",
        "\n",
        "# Directly from the data matrix\n",
        "print(P[2,1])"
      ],
      "execution_count": null,
      "outputs": []
    },
    {
      "cell_type": "markdown",
      "metadata": {
        "id": "Wz5WYBnVFMef"
      },
      "source": [
        "**Two ways of looking at a vector**:\n",
        "\n",
        "$$\\underbrace{\\begin{bmatrix}76\\\\74\\\\72\\\\78\\end{bmatrix}}_{\\text{a 4 component vector (or) a }4\\times1\\text{ matrix}}$$"
      ]
    },
    {
      "cell_type": "code",
      "metadata": {
        "id": "CEz5GjzuFs1h"
      },
      "source": [
        "# 1st feature (heart rate) values\n",
        "p_1 = P[, 1]\n",
        "str(p_1)\n",
        "str(as.matrix(p_1))"
      ],
      "execution_count": null,
      "outputs": []
    },
    {
      "cell_type": "markdown",
      "metadata": {
        "id": "EWo0NaIje0Da"
      },
      "source": [
        "**Some commonly used vectors and matrices**\n",
        "\n",
        "<p class=\"fragment roll-in\">$$\\underbrace{\\begin{bmatrix}0\\\\0\\\\0\\end{bmatrix}}_{\\pmb{0}:\\,\\text{Zero vector}}\\quad\\underbrace{\\begin{bmatrix}0\\\\0\\\\0\\\\0\\\\0\\end{bmatrix}}_{\\pmb{0}:\\,\\text{Zero vector}}\\quad \\underbrace{\\begin{bmatrix}1\\\\0\\\\0\\end{bmatrix}}_{e_1:\\,\\text{Unit vector}}\\quad \\underbrace{\\begin{bmatrix}0\\\\1\\\\0\\\\0\\end{bmatrix}}_{e_2:\\,\\text{Unit vector}}\\quad \\underbrace{\\begin{bmatrix}1\\\\1\\\\1\\\\\\vdots\\\\1\\\\1\\end{bmatrix}}_{\\pmb{1}:\\,\\text{ones vector}}$$</p>\n",
        "\n",
        "<p class=\"fragment roll-in\">$$\\underbrace{\\begin{bmatrix}0&\\cdots&0\\\\\\vdots&\\ddots&\\vdots\\\\0&\\cdots&0\\end{bmatrix}}_{\\pmb{0}_{m\\times n}:\\,\\text{matrix}}\\quad\\underbrace{\\begin{bmatrix}1 & 0 & \\dots & 0 \\\\0 & 1 & \\dots & 0 \\\\    \\vdots & \\vdots & \\ddots & \\vdots \\\\0 & 0 & \\dots & 1\\end{bmatrix}}_{\\pmb{I}:\\,\\text{Identity matrix}}\\quad\\underbrace{\\begin{bmatrix}\\alpha & 0 & \\dots & 0 \\\\0 & \\alpha & \\dots & 0 \\\\    \\vdots & \\vdots & \\ddots & \\vdots \\\\0 & 0 & \\dots & \\alpha\\end{bmatrix}}_{\\pmb{D}:\\,\\text{Diagonal matrix}}$$</p>\t"
      ]
    },
    {
      "cell_type": "code",
      "metadata": {
        "id": "ufPEXJGHe46t"
      },
      "source": [
        "# Diagonal matrix \n",
        "I = diag(4)\n",
        "print(I)\n",
        "cat(sprintf('\\n'))\n",
        "\n",
        "# Unit vector\n",
        "e_1 = I[, 1]\n",
        "print(e_1)\n",
        "e_3 = I[, 3]\n",
        "print(e_3)\n",
        "cat(sprintf('\\n'))\n",
        "\n",
        "# Zero vector\n",
        "z = replicate(4, 0)\n",
        "print(z)\n",
        "cat(sprintf('\\n'))\n",
        "\n",
        "# Ones vector\n",
        "o = replicate(4, 1)\n",
        "print(o)"
      ],
      "execution_count": null,
      "outputs": []
    },
    {
      "cell_type": "markdown",
      "metadata": {
        "id": "IlJe2PguiCkw"
      },
      "source": [
        "**Addition and subtraction of vectors, scalar multiplication (apply operation componentwise)**\n",
        "\n",
        "![Vector addition](https://bl3302files.storage.live.com/y4mMlnDRWzIoNKWynOZFhzhFNDlReoFxf7XwSeFwNWW8f1lu5ssj_SvgMAEN9BWiQ2F-meER7rD2an2n2tfDoWffBHE8aD_WBsL0LAbHxnIpZtZu6hNJAvZ88m746S_ktA9-h-oo108AQjkXQHkYrgJ5AUCpvKB2dipeNG1VfIK_38Q8fsq6OKD43adplgy0H1k?width=200&height=80&cropmode=none)\n",
        "\n",
        "![Vector subtraction](https://bl3302files.storage.live.com/y4mnQkNUONVVKJJ6dCEqV9lEuP360lE0yRumSIgl9LaQH_qBqjgI9wvUd64xJ-UNIjR7wJXZyaXZ_kf1_gAB9sXjMWaMxWhSnX6zcyvVtTrCDeO1MNWzj3A1YqI5YLALK-CGCSMurNV938QLH3C2u1-BE8_addFYSeO7DmCKz5TdWGf7qtC8M9rRN26RMqpk8iu?width=200&height=80&cropmode=none)\n",
        "\n",
        "![Scalar-vector multiplication](https://bl3302files.storage.live.com/y4mYNwLMmuKRl3sNDSo0yyXYs0KFw1LBnQCU6nAgSawanlGNgLq7Bd93DQ0ojamRpGLx_PZvnsSG-6K-3TsdDctw5sm-QxnWUHSTJGalDR4JmUp27_Hf3ESAQukZ1Jk5G16ykO7H3AKmLSQxE4vVIAtMFbCnyxtsQEfpyb_SK5jIjVtjl7yoFcBDzsRDGzo5cZM?width=200&height=80&cropmode=none)"
      ]
    },
    {
      "cell_type": "code",
      "metadata": {
        "id": "fiFqTqj8h-qE"
      },
      "source": [
        "# Vector addition\n",
        "a = c(0, 7, 3)\n",
        "b = c(1, 2, 0)\n",
        "print(a+b)\n",
        "cat(sprintf('\\n'))\n",
        "\n",
        "# Vector subtraction\n",
        "a = c(1, 9)\n",
        "b = c(1, 1)\n",
        "print(a-b)\n",
        "cat(sprintf('\\n'))\n",
        "\n",
        "# Scalar-vector multiplication\n",
        "a = c(1, 9, 6)\n",
        "alpha = -2\n",
        "print(alpha * a)"
      ],
      "execution_count": null,
      "outputs": []
    },
    {
      "cell_type": "markdown",
      "metadata": {
        "id": "XY9Nb_kWrinN"
      },
      "source": [
        "**Dot Product of Vectors**\n",
        "\n",
        "A scalar resulting from an elementwise multiplication and addition: $$a^{\\color{cyan}T}b = {\\color{red}{a_1b_1}}+{\\color{green}{a_2b_2}}+\\cdots+{\\color{magenta}{a_nb_n}}$$\n",
        "\n",
        "The <font color=\"cyan\">symbol</font> ${\\color{cyan}T}$ is a notation that will be explained soon.\n",
        "\n",
        "![Dot product](https://bl3302files.storage.live.com/y4mMdtIf3y5snN3f1UUvREiqT8_k5jmBTkmmHAcyh73wrou4WczQvmbtUg-W43NEg3wcUsuNBYWnGzDk9r6zvBfUTa1u7-8qMkQoQ_eK5tCU1Y7MBUcARPvaXW_lFqO48SOaOrwvys388KdjnTBMzze_ed2nPrCniHq5Kx-pqEABRNMVs7HU98UuAPSMwur4iQ8?width=400&height=100&cropmode=none)"
      ]
    },
    {
      "cell_type": "code",
      "metadata": {
        "id": "oyhBqLqntllv"
      },
      "source": [
        "a = c(-1, 2, 2)\n",
        "b = c(1, 0, -3)\n",
        "print(a %*% b) \n",
        "print(a*b)\n",
        "print(sum(a*b))"
      ],
      "execution_count": null,
      "outputs": []
    },
    {
      "cell_type": "markdown",
      "metadata": {
        "id": "QtZsxIdouZSs"
      },
      "source": [
        "**Some Useful Dot products**\n",
        "\t\t\t\t\t<ul>\n",
        "\t\t\t\t\t\t<li class=\"fragment roll-in\"><p>$e_i^Ta = {\\color{magenta}{0\\times a_1}}+\\cdots+{\\color{cyan}{1\\times a_i}}+\\cdots+{\\color{magenta}{0\\times a_n}} = {\\color{cyan}{a_i}}$</p> dot product with unit vector picks $i$th element</li>\t\n",
        "\t\t\t\t\t\t<li class=\"fragment roll-in\"><p>$\\pmb{1}^Ta = 1\\times a_1+1\\times a_2+\\cdots+1\\times a_n = a_1+a_2+\\cdots+a_n$</p> dot product with ones vector gives the sum of the elements.</li>\t\n",
        "\t\t\t\t\t\t<li class=\"fragment roll-in\"><p>$(\\pmb{1}/n)^Ta = (1/n)\\times a_1+(1/n)\\times a_2+\\cdots+(1/n)\\times a_n$</p><p> $= (a_1+a_2+\\cdots+a_n)/n$</p> dot product with $(1/n)$-scaled ones vector gives the average of the elements of the vector denoted as ${\\color{green}{\\text{avg}(a)}}$.</li>\n",
        "\t\t\t\t\t\t<li class=\"fragment roll-in\"><p>$a^Ta = a_1\\times a_1+a_2\\times a_2+\\cdots+a_n\\times a_n = a_1^2+a_2^2+\\cdots+a_n^2$</p> dot product with itself gives the sum of the squares of the elements."
      ]
    },
    {
      "cell_type": "code",
      "metadata": {
        "id": "JiWVUq3SwEm2"
      },
      "source": [
        "# Unit vectors\n",
        "e_1 = c(1, 0, 0, 0)\n",
        "e_3 = c(0, 0, 1, 0)\n",
        "\n",
        "# Ones vector\n",
        "o = replicate(4, 1)\n",
        "\n",
        "# Vector for 1st feature (heart rate)\n",
        "p_1 = P[, 1]\n",
        "print(p_1)\n",
        "cat(sprintf('\\n'))\n",
        "\n",
        "# Get 1st component of vector (heart rate for 1st patient)\n",
        "print(e_1 %*% p_1)\n",
        "cat(sprintf('\\n'))\n",
        "\n",
        "# Get 3rd component of vector (heart rate for 3rd patient)\n",
        "print(e_3 %*% p_1)\n",
        "cat(sprintf('\\n'))\n",
        "\n",
        "# Get sum of 1st feature values (heart rate) for all patients\n",
        "print(o %*% p_1)\n",
        "print(sum(p_1))\n",
        "cat(sprintf('\\n'))\n",
        "\n",
        "# Average of 1st feature values (heart rate)\n",
        "n = length(p_1)\n",
        "print(((1/n)*o) %*% p_1)\n",
        "print(mean(p_1))"
      ],
      "execution_count": null,
      "outputs": []
    },
    {
      "cell_type": "markdown",
      "metadata": {
        "id": "ZGO_uJMo7Gpd"
      },
      "source": [
        "**Norm of a vector**\n",
        "\n",
        "A scalar representing how <font color=\"cyan\">big a vector</font> is:$$\\lVert a\\rVert =\\sqrt{a_1^2+a_2^2+\\cdots+a_n^2} = \\sqrt{a^\\mathrm{T}a}$$\t\t\t\t\n",
        "<p class=\"fragment\">The <font color=\"cyan\">symbol</font> ${\\color{cyan}{\\lVert\\,\\lVert}}$ represents the norm of a vector</p>\t\n",
        "\n",
        "![Norm of a vector](https://bl3302files.storage.live.com/y4m8A4FYuLT9fy5RKHMEsnS-vKtnF2AHO9UTNerw_A84S_kM8U2FkhLb1-9O-_hN_aI0WWflvQS0kXTSG_K06nDWj9pzLnFw1S0hSrmKQw_dJdxW5r2k5OlqhqmeFoKKZDdivpoudbm6my5YZHU5RKMWBB39Fu5EEVQ7hfqjRuBhqoYkSmP0fbRLJY-XKsMCJRj?width=256&height=62&cropmode=none)\n",
        "\n",
        "![Geometry of vector](https://bl3302files.storage.live.com/y4mTwTyJtDFs8AJR9CbNJCrCPk3413w4UWANehYJyao_43H2CyM90kdttDdDqiURZjtw57BgL34bmpsrrazm7r-Re31BHxH04LEeXTU85-TLXGjotJGGoqzCH-J_nXhARQdoHQ5J450Rw-fq30GMbCjeDWz9kf12a7cmjU73fr6gfROSrsAgI7GMHlusSxljDFe?width=360&height=100&cropmode=none)"
      ]
    },
    {
      "cell_type": "code",
      "metadata": {
        "id": "ixuce9eC9b_B"
      },
      "source": [
        "# Norm of the 1st feature (heart rate) vector\n",
        "p_1 = P[, 1]\n",
        "print(p_1)\n",
        "print(sqrt(sum(p_1*p_1)))\n",
        "print(sqrt(p_1 %*% p_1))\n",
        "print(norm(p_1, type = '2'))"
      ],
      "execution_count": null,
      "outputs": []
    },
    {
      "cell_type": "markdown",
      "metadata": {
        "id": "VKBzN-Wf-Jlw"
      },
      "source": [
        "**Root Mean Square (RMS) value of a vector**\n",
        "\n",
        "A scalar representing the <font color=\"cyan\">typical absolute value</font> of an element: $$\\text{rms}(a)=\\sqrt{\\frac{a_1^2+a_2^2+\\cdots+a_n^2}{n}} = \\frac{\\lVert a\\rVert}{\\sqrt{n}}$$\n",
        "<p class=\"fragment\">The <font color = \"cyan\">rms value</font> of the vector $\\begin{bmatrix}1\\\\-1\\\\-1\\\\1\\end{bmatrix}$ is ${\\color{cyan}1}$ whereas the <font color=\"green\">avg($a$)</font> is ${\\color{green}0}$.</p>\t"
      ]
    },
    {
      "cell_type": "code",
      "metadata": {
        "id": "Yq31Mj_0-Tkr"
      },
      "source": [
        "# RMS value of the 1st feature (heart rate) vector\n",
        "n = length(p_1)\n",
        "print((1/sqrt(n) * sqrt(p_1 %*% p_1)))\n",
        "\n",
        "# Compare with the average of the 1st feature (heart rate) vector\n",
        "print(mean(p_1))"
      ],
      "execution_count": null,
      "outputs": []
    },
    {
      "cell_type": "markdown",
      "metadata": {
        "id": "q9qsTlUD_B1d"
      },
      "source": [
        "**Deviation from the average**\n",
        "\n",
        "The vector $a-\\text{avg}(a)\\mathbf{1}$ is called the de-meaned version of $a.$\n",
        "\n",
        "![Demeaned vector](https://bl3302files.storage.live.com/y4mRZeCpRTmxCVjlTBh63SSC-9ykIfmf-ZvIaXrp6prd1XpSPT0RhhaQ1j0vFp9lpKPaZtL8S1CSa64Bsw34x2_ncg1dAwBjR5lt6J8qOVqORlZIOw4gtOu0IIRHVbP3Zy4fZDeIzn8mgHFCc5y75W4PDkq0mhs-6VTSULUZQSefLhbTlv04pY_nAjg-rfyQ5jl?width=400&height=200&cropmode=none)"
      ]
    },
    {
      "cell_type": "code",
      "metadata": {
        "id": "5Uz3H4EY-s9L"
      },
      "source": [
        "print(p_1-mean(p_1))"
      ],
      "execution_count": null,
      "outputs": []
    },
    {
      "cell_type": "markdown",
      "metadata": {
        "id": "EHPawysPB4eP"
      },
      "source": [
        "**Standard devitation of a vector**\n",
        "\n",
        "A measure of how much the <font color=\"cyan\">elements of a vector typically deviate from their average value</font>\n",
        "<p class=\"fragment\">$$\\text{std}(x) = \\sqrt{\\frac{\\left[x_1-\\text{avg}(x)\\right]^2+\\cdots+\\left[x_n-\\text{avg}(x)\\right]^2}{n}} = \\frac{1}{\\sqrt{n}}(x-\\text{avg}(x)\\mathbf{1})^\\mathrm{T}(x-\\text{avg}(x)\\mathbf{1})$$</p>\n",
        "<ul>\n",
        "<li class=\"fragment roll-in\">It can be shown that standard deviation of a vector $x$ is the RMS value of the <font color =\"magenta\">de-meaned</font> vector ${\\color{magenta}{x-\\text{avg}(x)\\pmb{1}}}$ represented as ${\\color{magenta}{\\tilde{x}}}$</li>\t\t\n",
        "<li class=\"fragment roll-in\">Standard deviation of a vector is small when its entries are nearly the same</li>\t\n",
        "<li class=\"fragment roll-in\">For any vector $x$, ${\\color{red}{\\text{rms}(x)^2}} = {\\color{green}{\\text{avg}(x)^2}}+{\\color{yellow}{\\text{std}(x)^2}}$</li>\n",
        "</ul>\t"
      ]
    },
    {
      "cell_type": "code",
      "metadata": {
        "id": "U8pULrQ5CTLE"
      },
      "source": [
        "# Standard deviation of the 1st feature (heart rate) vector\n",
        "n = length(p_1)\n",
        "print(mean(p_1))\n",
        "print((1/sqrt(n-1)) * sqrt((p_1-mean(p_1)) %*% (p_1-mean(p_1))))\n",
        "print(sd(p_1))"
      ],
      "execution_count": null,
      "outputs": []
    },
    {
      "cell_type": "markdown",
      "metadata": {
        "id": "gIi0elJhDb7a"
      },
      "source": [
        "**Standardization of a vector**\t\n",
        "\n",
        "Standardized version of vector $x$ is a vector $z$ with mean zero and standard deviation 1\n",
        "<p class=\"fragment\">$$z = \\frac{x-\\text{avg}(x)\\pmb{1}}{\\text{std}(x)}$$</p>\n",
        "<ul>\n",
        "<li class=\"fragment roll-in\">Elements of $z$ are called $z$-scores associated with the elements of the original vector $x$</li>\t\t\n",
        "<li class=\"fragment roll-in\">For example, if a vector $x$ gives the values of heart rates of $4$ patients admitted to a hospital, the $z$-scores tell us how high or low, compared to the population, that patient’s heart rate value is.</li>\n",
        "</ul>"
      ]
    },
    {
      "cell_type": "code",
      "metadata": {
        "id": "HtADl8ObDu_z"
      },
      "source": [
        "# Standardized version of 1st feature (heart rate) vector\n",
        "z = (p_1-mean(p_1)) / sd(p_1)\n",
        "print(p_1)\n",
        "print(z)"
      ],
      "execution_count": null,
      "outputs": []
    },
    {
      "cell_type": "markdown",
      "metadata": {
        "id": "ibBxCW-uG5Ny"
      },
      "source": [
        "**Component plots of a vector, its de-meaned version, and its standardized version**"
      ]
    },
    {
      "cell_type": "code",
      "metadata": {
        "id": "zgB2xM1hHDTx"
      },
      "source": [
        "# Generate a 10-vector representing the heart rates of 10 random patients\n",
        "samplesize = 10\n",
        "h = runif(samplesize, min = 50, max = 110)\n",
        "h\n",
        "\n",
        "# De-meaned heart rate\n",
        "h_demeaned = h-mean(h)\n",
        "\n",
        "# Standardized heart rate\n",
        "h_standardized = h_demeaned / sd(h)\n",
        "\n",
        "# Component plot of heart rate vector\n",
        "df = as.data.frame(cbind(c(1:samplesize), h, h_demeaned, h_standardized))\n",
        "colnames(df) = c('PatientNumber', 'HeartRate', 'HeartRateDemeaned', 'HeartRateStandardized')\n",
        "p1 = ggplot(data = df) +\n",
        "  geom_point(size = 2, color = 'blue', aes(x = PatientNumber, y = HeartRate)) +\n",
        "  geom_hline(yintercept = mean(h), linetype = \"dashed\", color = \"blue\") +\n",
        "  geom_point(size = 2, color = 'green', aes(x = PatientNumber, y = HeartRateDemeaned)) +\n",
        "  geom_hline(yintercept = mean(h_demeaned), linetype = \"dashed\", color = \"green\") +\n",
        "  geom_point(size = 2, color = 'red', aes(x = PatientNumber, y = HeartRateStandardized)) +\n",
        "  geom_hline(yintercept = mean(h_standardized), linetype = \"dashed\", color = \"red\") +\n",
        "  scale_x_continuous(breaks = seq(0, samplesize, by = 1)) +\n",
        "  theme(axis.text = element_text(size = 12),\n",
        "  axis.text.x = element_text(size = 10),\n",
        "  axis.text.y = element_text(size = 10),\n",
        "  axis.title = element_text(size = 10, face = \"bold\")) +\n",
        "  labs(x = 'Patient Number',\n",
        "       y = 'Heart Rate',\n",
        "       title = 'Component Plot of Heart Rate Vector')\n",
        "p1"
      ],
      "execution_count": null,
      "outputs": []
    },
    {
      "cell_type": "code",
      "metadata": {
        "id": "qVsSbaaVhjVC"
      },
      "source": [
        "# Highlight samples beyong 1.5 standard deviations from the mean\n",
        "k = 1.5\n",
        "p1 = ggplot(data = df) +\n",
        "  geom_point(size = 2, color = 'red', aes(x = PatientNumber, y = HeartRateStandardized)) +\n",
        "  geom_hline(yintercept = mean(h_standardized), linetype = \"dashed\", color = \"black\") +\n",
        "  geom_hline(yintercept = mean(h_standardized)+k*sd(h_standardized), linetype = \"dashed\", color = \"black\") +\n",
        "  geom_hline(yintercept = mean(h_standardized)-k*sd(h_standardized), linetype = \"dashed\", color = \"black\") +\n",
        "  scale_x_continuous(breaks = seq(0, samplesize, by = 1)) +\n",
        "  theme(axis.text = element_text(size = 12),\n",
        "  axis.text.x = element_text(size = 10),\n",
        "  axis.text.y = element_text(size = 10),\n",
        "  axis.title = element_text(size = 10, face = \"bold\")) +\n",
        "  labs(x = 'Patient Number',\n",
        "       y = 'Standardized Heart Rate',\n",
        "       title = 'Component Plot of Standardized Heart Rate Vector')\n",
        "p1"
      ],
      "execution_count": null,
      "outputs": []
    },
    {
      "cell_type": "markdown",
      "metadata": {
        "id": "8aV56gA_GNlY"
      },
      "source": [
        "**Correlation between two vectors**\n",
        "\n",
        "It is a measure of linear relationship between two vectors $a$ and $b.$ Let $\\tilde{a}$ and $\\tilde{b}$ represent their de-meaned versions. The correlation coefficient is defined as:\n",
        "\n",
        "$$\\rho = \\frac{\\tilde{a}^\\mathrm{T}\\tilde{b}}{\\lVert \\tilde{a}\\rVert\\lVert \\tilde{b}\\rVert}.$$\n",
        "\n",
        "This is a value between $-1$ and $1.$"
      ]
    },
    {
      "cell_type": "code",
      "metadata": {
        "id": "Ogy4hEzoHuis"
      },
      "source": [
        "# Correlation between 1st feature (heart rate) and 2nd feature (BP) vectors\n",
        "p_1 = P[, 1]\n",
        "p_2 = P[, 2]\n",
        "print(cor(p_1, p_2))\n",
        "\n",
        "# Why not use the original heart rate and blood pressure vectors?\n",
        "print((p_1 %*% p_2) / (norm(p_1, type = '2')*norm(p_2, type = '2')))\n",
        "plot(p_1, p_2)"
      ],
      "execution_count": null,
      "outputs": []
    },
    {
      "cell_type": "code",
      "metadata": {
        "id": "ZjK1NGV_q1Wa"
      },
      "source": [
        "# Normalization vs. Standardization\n",
        "p_1 = P[, 1]\n",
        "print(p_1 / norm(p_1, type = '2')) # normalized version\n",
        "print((p_1 - mean(p_1))/sd(p_1)) # standardized version"
      ],
      "execution_count": null,
      "outputs": []
    },
    {
      "cell_type": "markdown",
      "metadata": {
        "id": "0KNug5UpN4jd"
      },
      "source": [
        "**A sample data matrix**"
      ]
    },
    {
      "cell_type": "code",
      "metadata": {
        "id": "OfDvIpuuK9X5"
      },
      "source": [
        "sData = data.frame(\"X1\" = c(5, 3), \"X2\" = c(2, 6))\n",
        "print(sData)\n",
        "plot(sData$X1, sData$X2)"
      ],
      "execution_count": null,
      "outputs": []
    },
    {
      "cell_type": "markdown",
      "metadata": {
        "id": "1QR297TmLT7n"
      },
      "source": [
        "**Geometric representation of vectors**"
      ]
    },
    {
      "cell_type": "code",
      "metadata": {
        "id": "VYCQi95MLGBT"
      },
      "source": [
        "p1 = sData %>% ggplot() + \n",
        "  geom_segment(aes(x = 0, y = 0, xend = X1[1], yend = X1[2]), size = 1,\n",
        "   arrow = arrow(length = unit(0.5,\"cm\")), color = 'red') +\n",
        "  geom_segment(aes(x = 0, y = 0, xend = X2[1], yend = X2[2]), size = 1,\n",
        "   arrow = arrow(length = unit(0.5,\"cm\")), color = 'blue') +\n",
        "  geom_text(aes(x = X1[1], y = X1[2]), label = 'x1', hjust = -0.5, vjust = 0, size = 10) +\n",
        "  geom_text(aes(x = X2[1], y= X2[2]), label = 'x2', hjust = -0.5, vjust = 0.5, size = 10) +\n",
        "  labs( x = '', y = '', title = 'Vectors') +\n",
        "  geom_vline(xintercept = 0, linetype = 'dashed') + \n",
        "  geom_hline(yintercept = 0, linetype = 'dashed') +\n",
        "  theme(axis.text.x = element_text(size = 20),\n",
        "   axis.text.y= element_text(size = 20),\n",
        "   axis.line = element_line(colour = \"darkblue\", size = 1, linetype = \"solid\")) +\n",
        "   scale_x_continuous(expand = c(0, 0), limits = c(-11, 11)) +\n",
        "   scale_y_continuous(expand = c(0, 0), limits = c(-11, 11))\n",
        "p1"
      ],
      "execution_count": null,
      "outputs": []
    },
    {
      "cell_type": "code",
      "metadata": {
        "id": "qyZtRGV6LYYP"
      },
      "source": [
        "X = as.matrix(sData)\n",
        "# Add new columns with normalized vectors\n",
        "sData$X1Normalized  = X[,1] / norm(X[,1], type = '2')\n",
        "sData$X2Normalized  = X[,2] / norm(X[,2], type = '2')\n",
        "print(sData)"
      ],
      "execution_count": null,
      "outputs": []
    },
    {
      "cell_type": "code",
      "metadata": {
        "id": "u8M_UWW1L_pR"
      },
      "source": [
        "p2 = sData %>% ggplot() + \n",
        "  geom_segment(aes(x = 0, y = 0, xend = X1[1], yend = X1[2]), size = 1,\n",
        "   arrow = arrow(length = unit(0.5,\"cm\")), color = 'red') +\n",
        "  geom_segment(aes(x = 0, y = 0, xend = X2[1], yend = X2[2]), size = 1,\n",
        "   arrow = arrow(length = unit(0.5,\"cm\")), color = 'blue') +\n",
        "  geom_segment(aes(x = 0, y = 0, xend = X1Normalized[1], yend = X1Normalized[2]), size = 1,\n",
        "   arrow = arrow(length = unit(0.5,\"cm\")), color = 'red', linetype = 'dashed') + \n",
        "  geom_segment(aes(x = 0, y = 0, xend = X2Normalized[1], yend = X2Normalized[2]), size = 1,\n",
        "   arrow = arrow(length = unit(0.5,\"cm\")), color = 'blue', linetype = 'dashed') + \n",
        "  geom_text(aes(x = X1[1], y = X1[2]), label = 'x1', hjust = -0.5, vjust = 0, size = 10) +\n",
        "  geom_text(aes(x = X2[1], y= X2[2]), label = 'x2', hjust = -0.5, vjust = 0.5, size = 10) +\n",
        "  labs( x = '', y = '', title = 'Vectors') +\n",
        "  geom_vline(xintercept = 0, linetype = 'dashed') + \n",
        "  geom_hline(yintercept = 0, linetype = 'dashed') +\n",
        "  theme(axis.text.x = element_text(size = 20),\n",
        "   axis.text.y= element_text(size = 20),\n",
        "   axis.line = element_line(colour = \"darkblue\", size = 1, linetype = \"solid\")) +\n",
        "   scale_x_continuous(expand = c(0, 0), limits = c(-11, 11)) +\n",
        "   scale_y_continuous(expand = c(0, 0), limits = c(-11, 11))\n",
        "p2"
      ],
      "execution_count": null,
      "outputs": []
    },
    {
      "cell_type": "code",
      "metadata": {
        "id": "Fl20PuwRM4KJ"
      },
      "source": [
        "# Length (norm) of normalized columns\n",
        "norm(sData$X1Normalized, type = '2')\n",
        "norm(sData$X2Normalized, type = '2')"
      ],
      "execution_count": null,
      "outputs": []
    },
    {
      "cell_type": "code",
      "metadata": {
        "id": "f1NXV1L0MLMx"
      },
      "source": [
        "# Add new columns with standardized vectors\n",
        "sData$X1Standardized  = (X[,1] - mean(X[,1])) / sd(X[,1])\n",
        "sData$X2Standardized  = (X[,2] - mean(X[,2])) / sd(X[,2])\n",
        "print(sData)"
      ],
      "execution_count": null,
      "outputs": []
    },
    {
      "cell_type": "code",
      "metadata": {
        "id": "Rp3dUTzaMTV4"
      },
      "source": [
        "# Mean and standard deviation of the standardized columns\n",
        "mean(sData$X1Standardized)\n",
        "sd(sData$X1Standardized)"
      ],
      "execution_count": null,
      "outputs": []
    },
    {
      "cell_type": "code",
      "metadata": {
        "id": "MbRZhZCwNIPw"
      },
      "source": [
        "p3 = sData %>% ggplot() + \n",
        "  geom_segment(aes(x = 0, y = 0, xend = X1[1], yend = X1[2]), size = 1,\n",
        "   arrow = arrow(length = unit(0.5,\"cm\")), color = 'red') +\n",
        "  geom_segment(aes(x = 0, y = 0, xend = X2[1], yend = X2[2]), size = 1,\n",
        "   arrow = arrow(length = unit(0.5,\"cm\")), color = 'blue') +\n",
        "  geom_segment(aes(x = 0, y = 0, xend = X1Normalized[1], yend = X1Normalized[2]), size = 1,\n",
        "   arrow = arrow(length = unit(0.5,\"cm\")), color = 'red', linetype = 'dashed') + \n",
        "  geom_segment(aes(x = 0, y = 0, xend = X2Normalized[1], yend = X2Normalized[2]), size = 1,\n",
        "   arrow = arrow(length = unit(0.5,\"cm\")), color = 'blue', linetype = 'dashed') + \n",
        "  geom_segment(aes(x = 0, y = 0, xend = X1Standardized[1], yend = X1Standardized[2]), size = 1,\n",
        "   arrow = arrow(length = unit(0.5,\"cm\")), color = 'red', linetype = 1) + \n",
        "  geom_segment(aes(x = 0, y = 0, xend = X2Standardized[1], yend = X2Standardized[2]), size = 1,\n",
        "   arrow = arrow(length = unit(0.5,\"cm\")), color = 'blue', linetype = 1) +  \n",
        "  geom_text(aes(x = X1[1], y = X1[2]), label = 'x1', hjust = -0.5, vjust = 0, size = 10) +\n",
        "  geom_text(aes(x = X2[1], y= X2[2]), label = 'x2', hjust = -0.5, vjust = 0.5, size = 10) +\n",
        "  labs( x = '', y = '', title = 'Vectors') +\n",
        "  geom_vline(xintercept = 0, linetype = 'dashed') + \n",
        "  geom_hline(yintercept = 0, linetype = 'dashed') +\n",
        "  theme(axis.text.x = element_text(size = 20),\n",
        "   axis.text.y= element_text(size = 20),\n",
        "   axis.line = element_line(colour = \"darkblue\", size = 1, linetype = \"solid\")) +\n",
        "   scale_x_continuous(expand = c(0, 0), limits = c(-11, 11)) +\n",
        "   scale_y_continuous(expand = c(0, 0), limits = c(-11, 11))\n",
        "p3"
      ],
      "execution_count": null,
      "outputs": []
    },
    {
      "cell_type": "code",
      "metadata": {
        "id": "Rt5DEq1LNdeF"
      },
      "source": [
        "p5 = sData %>% ggplot() + \n",
        "  geom_segment(aes(x = 0, y = 0, xend = X1[1], yend = X2[1]), size = 1,\n",
        "   arrow = arrow(length = unit(0.5,\"cm\")), color = 'red') +\n",
        "  geom_segment(aes(x = 0, y = 0, xend = X1[2], yend = X2[2]), size = 1,\n",
        "   arrow = arrow(length = unit(0.5,\"cm\")), color = 'blue') +\n",
        "  geom_text(aes(x = X1[1], y = X2[1]), label = 'x^1', hjust = -0.5, vjust = 0, size = 10) +\n",
        "  geom_text(aes(x = X1[2], y= X2[2]), label = 'x^2', hjust = -0.5, vjust = 0.5, size = 10) +\n",
        "  labs( x = '', y = '', title = 'Vectors') +\n",
        "  geom_vline(xintercept = 0, linetype = 'dashed') + \n",
        "  geom_hline(yintercept = 0, linetype = 'dashed') +\n",
        "  theme(axis.text.x = element_text(size = 20),\n",
        "   axis.text.y= element_text(size = 20),\n",
        "   axis.line = element_line(colour = \"darkblue\", size = 1, linetype = \"solid\")) +\n",
        "   scale_x_continuous(expand = c(0, 0), limits = c(-11, 11)) +\n",
        "   scale_y_continuous(expand = c(0, 0), limits = c(-11, 11))\n",
        "p5"
      ],
      "execution_count": null,
      "outputs": []
    },
    {
      "cell_type": "code",
      "metadata": {
        "id": "BXLDsvFdNjKi"
      },
      "source": [
        "X = as.matrix(sData)\n",
        "print(X)"
      ],
      "execution_count": null,
      "outputs": []
    },
    {
      "cell_type": "markdown",
      "metadata": {
        "id": "F9YfYcf5N_bo"
      },
      "source": [
        "**Projection of vectors and its relationship to dot product**\n",
        "\n",
        "![Vector projection](https://bl3302files.storage.live.com/y4miuCtKP9ptv6lIB8EqEU_u7cbEydy0UsEgHl4ECni2UVONtvKZgf73pIQ4vuA99ZHP8K96W_1i-QuhSIN12IudLaUTF3_jZzFqVfsaRK7QubMS9p5C1ErN6tB8I_UqQZnSY2JSGnu0IvJQrRcd2rX2Hzngfka3tCqJhbAMdElywcis2gRaoiuEGDVqaXpZYYp?width=256&height=209&cropmode=none)"
      ]
    },
    {
      "cell_type": "code",
      "metadata": {
        "id": "aIC3FK6xNmiB"
      },
      "source": [
        "# Scalar projection of x^2 onto x^1\n",
        "shadowLength = (X[2,] %*% X[1,])/(norm(X[1,], type = '2'))\n",
        "shadowLength = as.numeric(shadowLength)\n",
        "# Vector projection of x^2 onto x^1\n",
        "unitVector = X[1,] / (norm(X[1,], type = '2'))\n",
        "X2Projected = shadowLength * unitVector"
      ],
      "execution_count": null,
      "outputs": []
    },
    {
      "cell_type": "code",
      "metadata": {
        "id": "c_LswOXxOHE1"
      },
      "source": [
        "p6 = sData %>% ggplot() + \n",
        "  geom_segment(aes(x = 0, y = 0, xend = X1[1], yend = X2[1]), size = 1,\n",
        "   arrow = arrow(length = unit(0.5,\"cm\")), color = 'red') +\n",
        "  geom_segment(aes(x = 0, y = 0, xend = X1[2], yend = X2[2]), size = 1,\n",
        "   arrow = arrow(length = unit(0.5,\"cm\")), color = 'blue') +\n",
        "  geom_segment(aes(x = 0, y = 0, xend = X2Projected[1], yend = X2Projected[2]), size = 1,\n",
        "   arrow = arrow(length = unit(0.5,\"cm\")), color = 'black', linetype = 'dashed') + \n",
        "  geom_text(aes(x = X1[1], y = X1[2]), label = 'x^1', hjust = -0.5, vjust = 0, size = 10) +\n",
        "  geom_text(aes(x = X2[1], y= X2[2]), label = 'x^2', hjust = -0.5, vjust = 0.5, size = 10) +\n",
        "  labs( x = '', y = '', title = 'Vectors') +\n",
        "  geom_vline(xintercept = 0, linetype = 'dashed') + \n",
        "  geom_hline(yintercept = 0, linetype = 'dashed') +\n",
        "  theme(axis.text.x = element_text(size = 20),\n",
        "   axis.text.y= element_text(size = 20),\n",
        "   axis.line = element_line(colour = \"darkblue\", size = 1, linetype = \"solid\")) +\n",
        "   scale_x_continuous(expand = c(0, 0), limits = c(-11, 11)) +\n",
        "   scale_y_continuous(expand = c(0, 0), limits = c(-11, 11))\n",
        "p6"
      ],
      "execution_count": null,
      "outputs": []
    },
    {
      "cell_type": "code",
      "metadata": {
        "id": "VFypggw9uf26"
      },
      "source": [
        "print(P)\n",
        "# Project all patients onto the e_1 direction\n",
        "e_1 = c(1, 0, 0)\n",
        "print(e_1 %*% P[1, ] / norm(e_1, type = '2'))\n",
        "print(e_1 %*% P[2, ] / norm(e_1, type = '2'))\n",
        "print(e_1 %*% P[3, ] / norm(e_1, type = '2'))\n",
        "print(e_1 %*% P[4, ] / norm(e_1, type = '2'))\n",
        "\n",
        "# How different (or varying) are the patients w.r.t. the features?\n",
        "sd(P[, 1])\n",
        "sd(P[, 2])\n",
        "sd(P[, 3])"
      ],
      "execution_count": null,
      "outputs": []
    },
    {
      "cell_type": "code",
      "metadata": {
        "id": "6IROuoYjM7pq"
      },
      "source": [
        "## Load data - refer to http://openmv.net/info/food-texture for data description \n",
        "file = 'http://openmv.net/file/food-texture.csv'\n",
        "foodData = read.csv(file, header = TRUE, row.names = 1)\n",
        "## Print structure of data frame\n",
        "str(foodData)"
      ],
      "execution_count": null,
      "outputs": []
    },
    {
      "cell_type": "code",
      "metadata": {
        "id": "Osm3V-ix4CvU"
      },
      "source": [
        "## Print first 5 samples of data frame\n",
        "head(foodData, n = 5)"
      ],
      "execution_count": null,
      "outputs": []
    },
    {
      "cell_type": "code",
      "metadata": {
        "id": "jglloopNLWCZ"
      },
      "source": [
        "## Modify data frame\n",
        "# Modify crispy column to reflect high (0) and low (1) crispness\n",
        "foodData = foodData %>% mutate(Crispy = ifelse(Crispy > 11, 'high', 'low'))\n",
        "\n",
        "# Change Crispy column to factor type\n",
        "foodData['Crispy'] = lapply(foodData['Crispy'], factor)"
      ],
      "execution_count": null,
      "outputs": []
    },
    {
      "cell_type": "code",
      "metadata": {
        "id": "CdwwmrQ3PydO"
      },
      "source": [
        "## Print structure of modified data frame\n",
        "str(foodData)"
      ],
      "execution_count": null,
      "outputs": []
    },
    {
      "cell_type": "code",
      "metadata": {
        "id": "KQkF_NmGN2gS"
      },
      "source": [
        "## Print first 5 samples of modified data frame\n",
        "head(foodData, n = 5)"
      ],
      "execution_count": null,
      "outputs": []
    },
    {
      "cell_type": "code",
      "metadata": {
        "id": "ClvfDDEa_DD6"
      },
      "source": [
        "## Scatter plot between Density (x-axis) and Hardness (y-axis)\n",
        "p1 = ggplot(data = foodData, aes(x = Density, y = Hardness)) +\n",
        "  geom_point(size = 1) \n",
        "p1"
      ],
      "execution_count": null,
      "outputs": []
    },
    {
      "cell_type": "code",
      "metadata": {
        "id": "6h2izAbZlIbK"
      },
      "source": [
        "## Scatter plot between Density (x-axis) and Oil (y-axis)\n",
        "p1 = ggplot(data = foodData, aes(x = Density, y = Oil)) +\n",
        "  geom_point(size = 1) \n",
        "p1"
      ],
      "execution_count": null,
      "outputs": []
    },
    {
      "cell_type": "code",
      "metadata": {
        "id": "8uBvDdJpOEMm"
      },
      "source": [
        "## Scatter plot between Density (x-axis) and Oil (y-axis) color coded using Crispy\n",
        "p2 = ggplot(data = foodData, aes(x = Density, y = Oil, color = factor(Crispy))) +\n",
        "  geom_point(size = 1) \n",
        "p2"
      ],
      "execution_count": null,
      "outputs": []
    },
    {
      "cell_type": "code",
      "metadata": {
        "id": "sFrC5vagK43t"
      },
      "source": [
        "## Print sample correlation between Density and Oil\n",
        "cor(foodData$Density, foodData$Oil, method = 'pearson')"
      ],
      "execution_count": null,
      "outputs": []
    },
    {
      "cell_type": "code",
      "metadata": {
        "id": "7uccc9oTl2aZ"
      },
      "source": [
        "## Print sample correlation between Density and Hardness\n",
        "cor(foodData$Density, foodData$Hardness, method = 'pearson')"
      ],
      "execution_count": null,
      "outputs": []
    },
    {
      "cell_type": "markdown",
      "metadata": {
        "id": "BxGDSnCNHdIF"
      },
      "source": [
        "**Question-4**: Select data frame without Crispy column."
      ]
    },
    {
      "cell_type": "code",
      "metadata": {
        "id": "2lIlkwFx6Aew"
      },
      "source": [
        "## Select data frame without Crispy column\n",
        "fData = foodData %>% dplyr::select(-c('Crispy'))"
      ],
      "execution_count": null,
      "outputs": []
    },
    {
      "cell_type": "code",
      "metadata": {
        "id": "zEeyhmu4ho4g"
      },
      "source": [
        "str(fData)"
      ],
      "execution_count": null,
      "outputs": []
    },
    {
      "cell_type": "code",
      "metadata": {
        "id": "rLOGgEaBy5Bv"
      },
      "source": [
        "# Sample Correlation matrix corresponding to the continuous features \n",
        "print(cor(fData))"
      ],
      "execution_count": null,
      "outputs": []
    },
    {
      "cell_type": "code",
      "metadata": {
        "id": "2EoCZY6JzKIk"
      },
      "source": [
        "plot(fData$Density, fData$Oil)"
      ],
      "execution_count": null,
      "outputs": []
    },
    {
      "cell_type": "code",
      "metadata": {
        "id": "a6xwoSQLBfcn"
      },
      "source": [
        "# Sample Covariance matrix corresponding to the continuous features \n",
        "print(cov(fData))"
      ],
      "execution_count": null,
      "outputs": []
    },
    {
      "cell_type": "code",
      "metadata": {
        "id": "VYjhmVJlBlnS"
      },
      "source": [
        "# Sample Covariance matrix corresponding to the standardized continuous features \n",
        "print(cov(scale(fData)))"
      ],
      "execution_count": null,
      "outputs": []
    },
    {
      "cell_type": "code",
      "metadata": {
        "id": "D-eJm4u_CAx0"
      },
      "source": [
        "# Calculate sample covariance between Density and Oil\n",
        "((fData$Density - mean(fData$Density)) %*% (fData$Oil - mean(fData$Oil))) / (length(fData$Density)-1)  \n",
        "\n",
        "# Calculate sample correlation between Density and Oil\n",
        "(((fData$Density - mean(fData$Density))/sd(fData$Density)) %*% ((fData$Oil - mean(fData$Oil))/sd(fData$Oil))) / (length(fData$Density)-1)  "
      ],
      "execution_count": null,
      "outputs": []
    },
    {
      "cell_type": "code",
      "metadata": {
        "id": "G72lzPM8EITq"
      },
      "source": [
        "# Matrix-vector multiplications\n",
        "A = matrix(seq(1, 4), 4, 1)\n",
        "B = matrix(seq(8, 5, -1), 4, 1)\n",
        "print(dim(A))\n",
        "print(dim(B))\n",
        "A[,1] %*% B[,1] #?\n",
        "t(A[,1]) %*% B[,1] #?\n",
        "A[,1] %*% t(B[,1]) #?\n",
        "t(A[,1]) %*% t(B[,1]) #?"
      ],
      "execution_count": null,
      "outputs": []
    },
    {
      "cell_type": "code",
      "metadata": {
        "id": "vo9VRxfP8_dJ"
      },
      "source": [
        "## Select data frame consisiting of two features: Density & Hardness\n",
        "fDataTwoFeatures = fData %>% select(c('Density', 'Hardness'))"
      ],
      "execution_count": null,
      "outputs": []
    },
    {
      "cell_type": "code",
      "metadata": {
        "id": "MMpYBHqWyhAS"
      },
      "source": [
        "head(fDataTwoFeatures, n = 5)"
      ],
      "execution_count": null,
      "outputs": []
    },
    {
      "cell_type": "code",
      "metadata": {
        "id": "CHoDrrK3qtOr"
      },
      "source": [
        "## Calculate sample correlation matrix of data frame selected above\n",
        "corMatrix = cor(fDataTwoFeatures)\n",
        "print(corMatrix)"
      ],
      "execution_count": null,
      "outputs": []
    },
    {
      "cell_type": "code",
      "metadata": {
        "id": "LMUWqOoAPoA2"
      },
      "source": [
        "# Calculate eigenvalues & eigenvectors of sample correlation matrix\n",
        "e = eigen(corMatrix)\n",
        "u = e$vectors\n",
        "lambda = e$values \n",
        "print(u)\n",
        "print(lambda)"
      ],
      "execution_count": null,
      "outputs": []
    },
    {
      "cell_type": "code",
      "metadata": {
        "id": "2tcmM2F8yw9-"
      },
      "source": [
        "## Extract scaled data matrix from data frame\n",
        "X = scale(fDataTwoFeatures)"
      ],
      "execution_count": null,
      "outputs": []
    },
    {
      "cell_type": "code",
      "metadata": {
        "id": "3rkT7ZASfIVf"
      },
      "source": [
        "## Project samples onto the direction of the first and second eigenvectors\n",
        "\n",
        "# Calculate shadow length of data\n",
        "shadowLength1 = X %*% u[, 1]\n",
        "shadowLength1 = as.numeric(shadowLength1)\n",
        "shadowLength2 = X %*% u[, 2]\n",
        "shadowLength2 = as.numeric(shadowLength2)\n",
        "\n",
        "# Vector projection\n",
        "projectedSamples1 = u[, 1] %*% t(as.matrix(shadowLength1))\n",
        "projectedSamples2 = u[, 2] %*% t(as.matrix(shadowLength2))"
      ],
      "execution_count": null,
      "outputs": []
    },
    {
      "cell_type": "code",
      "metadata": {
        "id": "buJxlrKE-8z0"
      },
      "source": [
        "## Scale data frame and add Crispy column to data frame\n",
        "fDataTwoFeaturesScaled = as.data.frame(scale(fDataTwoFeatures))\n",
        "fDataTwoFeaturesScaled['Crispy'] = foodData['Crispy']"
      ],
      "execution_count": null,
      "outputs": []
    },
    {
      "cell_type": "code",
      "metadata": {
        "id": "--CwX2ZgPaZk"
      },
      "source": [
        "## Scatter plot of Density and Hardness, color coded using Crispy and first\n",
        "## two eigenvectors with the projected data on to the first principal direction\n",
        "## also color coded using Crispy\n",
        "u = -u # this is a minor adjustment to flip the sign of the eigenvectors\n",
        "p3 = fDataTwoFeaturesScaled %>% ggplot(aes(x = Density, y = Hardness, color = factor(Crispy))) +\n",
        "  geom_point(size = 1) +\n",
        "  geom_segment(aes(x = 0, y = 0, xend = u[1, 1], yend = u[2, 1]), size = 0.5,\n",
        "   arrow = arrow(length = unit(0.5,\"cm\")), color = 'red') +\n",
        "  geom_segment(aes(x = 0, y = 0, xend = u[1, 2], yend = u[2, 2]), size = 0.5,\n",
        "   arrow = arrow(length = unit(0.5,\"cm\")), color = 'blue') +\n",
        "  geom_point(aes(x = projectedSamples1[1, ], y = projectedSamples1[2, ], color = factor(Crispy)), shape = 4, size = 2.0) \n",
        "p3"
      ],
      "execution_count": null,
      "outputs": []
    },
    {
      "cell_type": "code",
      "metadata": {
        "id": "LZBnTQqBaLEu"
      },
      "source": [
        "## Scatter plot of Density and Hardness, color coded using Crispy and first\n",
        "## two eigenvectors with the projected data on to the second principal direction\n",
        "## also color coded using Crispy\n",
        "p4 = fDataTwoFeaturesScaled %>% ggplot(aes(x = Density, y = Hardness, color = factor(Crispy))) +\n",
        "  geom_point(size = 1) +\n",
        "  geom_segment(aes(x = 0, y = 0, xend = u[1, 1], yend = u[2, 1]), size = 0.5,\n",
        "   arrow = arrow(length = unit(0.5,\"cm\")), color = 'red') +\n",
        "  geom_segment(aes(x = 0, y = 0, xend = u[1, 2], yend = u[2, 2]), size = 0.5,\n",
        "   arrow = arrow(length = unit(0.5,\"cm\")), color = 'blue') +\n",
        "  geom_point(aes(x = projectedSamples2[1, ], y = projectedSamples2[2, ], color = factor(Crispy)), shape = 4, size = 2.0) \n",
        "p4"
      ],
      "execution_count": null,
      "outputs": []
    },
    {
      "cell_type": "code",
      "metadata": {
        "id": "XbN26Lt6GGra"
      },
      "source": [
        "# Father-Son dataset\n",
        "mu = colMeans(father.son)\n",
        "mu"
      ],
      "execution_count": null,
      "outputs": []
    },
    {
      "cell_type": "code",
      "metadata": {
        "id": "g94I-NSVtndE"
      },
      "source": [
        "ggplot(father.son, aes(x=fheight, y=sheight)) +\n",
        " geom_point(size=2, alpha=0.7) + xlab(\"Height of father\") + \n",
        "  ylab(\"Height of son\") + ggtitle(\"Father-son Height Data\") +\n",
        "  stat_ellipse(level=0.68,color=\"green\")+\n",
        "  stat_ellipse(level=0.95,color=\"blue\")"
      ],
      "execution_count": null,
      "outputs": []
    },
    {
      "cell_type": "code",
      "metadata": {
        "id": "zp_0AvpFus6g"
      },
      "source": [
        "cov(father.son)\n",
        "cor(father.son)"
      ],
      "execution_count": null,
      "outputs": []
    },
    {
      "cell_type": "code",
      "metadata": {
        "id": "KofQdATIz1US"
      },
      "source": [
        "# Samples 10 and 20\n",
        "x10 = father.son[10, ]\n",
        "x20 = father.son[20, ]\n",
        "x10\n",
        "x20\n",
        "# Euclidean distance between samples 10 and 20\n",
        "norm(x10-x20, type = '2')\n",
        "# Mahalanobis distance between samples 10 and 20\n",
        "#str(father.son)\n",
        "M = mahalanobis.dist(father.son, father.son)\n",
        "str(M)\n",
        "M[10, 20]"
      ],
      "execution_count": null,
      "outputs": []
    }
  ]
}