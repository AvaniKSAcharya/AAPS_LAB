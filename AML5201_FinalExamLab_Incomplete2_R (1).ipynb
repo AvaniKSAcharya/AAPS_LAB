{
  "nbformat": 4,
  "nbformat_minor": 0,
  "metadata": {
    "kernelspec": {
      "display_name": "R",
      "language": "R",
      "name": "ir"
    },
    "language_info": {
      "codemirror_mode": "r",
      "file_extension": ".r",
      "mimetype": "text/x-r-source",
      "name": "R",
      "pygments_lexer": "r",
      "version": "3.3.1"
    },
    "colab": {
      "name": "AML5201_FinalExamLab_Incomplete2_R.ipynb",
      "provenance": [],
      "collapsed_sections": []
    }
  },
  "cells": [
    {
      "cell_type": "markdown",
      "source": [
        "\n",
        "\n",
        "---\n",
        "\n",
        "\n",
        "**$$\\color{blue}{AML\\ 5201- Advanced\\ Applications\\ of\\ Probability\\ and\\ Statistics - Lab\\ Final}\\ (50\\ Points)$$**\n",
        "\n",
        "---\n",
        "\n",
        " \n",
        "\n",
        "\n",
        "**Upload your**\n",
        "\n",
        "1. completed code clearly showing the output cells (.ipynb file)\n",
        "2. PDF of your completed code (go to file->print->save as PDF choosing Landscape orientation) \n",
        "\n",
        "**with the naming convention example** $$\\color{red}{AAPS\\_LabFinal\\_SudarsanAcharya.ipynb}$$ **by clicking [here](https://learnermanipal-my.sharepoint.com/:f:/g/personal/sudarsan_acharya_manipal_edu/EvURWlIawhJKu9cdhxuCttIBjJQo7RcgBiFDkCyzbT8ZVA)**"
      ],
      "metadata": {
        "id": "QN8EcNAyG8fa"
      }
    },
    {
      "cell_type": "code",
      "metadata": {
        "id": "nTmGOkPXZjUv",
        "outputId": "4c20c205-1b66-4edf-aab9-ff58a1118df3",
        "colab": {
          "base_uri": "https://localhost:8080/"
        }
      },
      "source": [
        "# Install and load packages\n",
        "library(ggplot2)\n",
        "library(dplyr)\n",
        "install.packages('HSAUR')\n",
        "library(HSAUR)"
      ],
      "execution_count": 1,
      "outputs": [
        {
          "output_type": "stream",
          "name": "stderr",
          "text": [
            "\n",
            "Attaching package: ‘dplyr’\n",
            "\n",
            "\n",
            "The following objects are masked from ‘package:stats’:\n",
            "\n",
            "    filter, lag\n",
            "\n",
            "\n",
            "The following objects are masked from ‘package:base’:\n",
            "\n",
            "    intersect, setdiff, setequal, union\n",
            "\n",
            "\n",
            "Installing package into ‘/usr/local/lib/R/site-library’\n",
            "(as ‘lib’ is unspecified)\n",
            "\n",
            "Loading required package: tools\n",
            "\n"
          ]
        }
      ]
    },
    {
      "cell_type": "code",
      "source": [
        "# Load the heptathlon dataset\n",
        "data(heptathlon)\n",
        "str(heptathlon)"
      ],
      "metadata": {
        "id": "mOQvB1t6Hp_x",
        "outputId": "36449664-9108-4517-af24-de1ea74cac15",
        "colab": {
          "base_uri": "https://localhost:8080/"
        }
      },
      "execution_count": 2,
      "outputs": [
        {
          "output_type": "stream",
          "name": "stdout",
          "text": [
            "'data.frame':\t25 obs. of  8 variables:\n",
            " $ hurdles : num  12.7 12.8 13.2 13.6 13.5 ...\n",
            " $ highjump: num  1.86 1.8 1.83 1.8 1.74 1.83 1.8 1.8 1.83 1.77 ...\n",
            " $ shot    : num  15.8 16.2 14.2 15.2 14.8 ...\n",
            " $ run200m : num  22.6 23.6 23.1 23.9 23.9 ...\n",
            " $ longjump: num  7.27 6.71 6.68 6.25 6.32 6.33 6.37 6.47 6.11 6.28 ...\n",
            " $ javelin : num  45.7 42.6 44.5 42.8 47.5 ...\n",
            " $ run800m : num  129 126 124 132 128 ...\n",
            " $ score   : int  7291 6897 6858 6540 6540 6411 6351 6297 6252 6252 ...\n"
          ]
        }
      ]
    },
    {
      "cell_type": "code",
      "source": [
        "# Introduce a new column called sprint highlighting slow and fast sprinters\n",
        "heptathlon = heptathlon %>% mutate(sprint = ifelse(run200m <= 25 & run800m <= 129, 'fast', 'slow'))\n",
        "\n",
        "# Change sprint column to factor type\n",
        "heptathlon['sprint'] = lapply(heptathlon['sprint'], factor)"
      ],
      "metadata": {
        "id": "_KkksHnpKdQD"
      },
      "execution_count": 3,
      "outputs": []
    },
    {
      "cell_type": "code",
      "source": [
        "# Print the first few rows of the dataframe\n",
        "head(heptathlon)"
      ],
      "metadata": {
        "id": "mKleqaDbLK_G",
        "outputId": "135f67fa-8baf-4729-d0ce-19ca23c126ab",
        "colab": {
          "base_uri": "https://localhost:8080/",
          "height": 286
        }
      },
      "execution_count": 4,
      "outputs": [
        {
          "output_type": "display_data",
          "data": {
            "text/html": [
              "<table class=\"dataframe\">\n",
              "<caption>A data.frame: 6 × 9</caption>\n",
              "<thead>\n",
              "\t<tr><th></th><th scope=col>hurdles</th><th scope=col>highjump</th><th scope=col>shot</th><th scope=col>run200m</th><th scope=col>longjump</th><th scope=col>javelin</th><th scope=col>run800m</th><th scope=col>score</th><th scope=col>sprint</th></tr>\n",
              "\t<tr><th></th><th scope=col>&lt;dbl&gt;</th><th scope=col>&lt;dbl&gt;</th><th scope=col>&lt;dbl&gt;</th><th scope=col>&lt;dbl&gt;</th><th scope=col>&lt;dbl&gt;</th><th scope=col>&lt;dbl&gt;</th><th scope=col>&lt;dbl&gt;</th><th scope=col>&lt;int&gt;</th><th scope=col>&lt;fct&gt;</th></tr>\n",
              "</thead>\n",
              "<tbody>\n",
              "\t<tr><th scope=row>Joyner-Kersee (USA)</th><td>12.69</td><td>1.86</td><td>15.80</td><td>22.56</td><td>7.27</td><td>45.66</td><td>128.51</td><td>7291</td><td>fast</td></tr>\n",
              "\t<tr><th scope=row>John (GDR)</th><td>12.85</td><td>1.80</td><td>16.23</td><td>23.65</td><td>6.71</td><td>42.56</td><td>126.12</td><td>6897</td><td>fast</td></tr>\n",
              "\t<tr><th scope=row>Behmer (GDR)</th><td>13.20</td><td>1.83</td><td>14.20</td><td>23.10</td><td>6.68</td><td>44.54</td><td>124.20</td><td>6858</td><td>fast</td></tr>\n",
              "\t<tr><th scope=row>Sablovskaite (URS)</th><td>13.61</td><td>1.80</td><td>15.23</td><td>23.92</td><td>6.25</td><td>42.78</td><td>132.24</td><td>6540</td><td>slow</td></tr>\n",
              "\t<tr><th scope=row>Choubenkova (URS)</th><td>13.51</td><td>1.74</td><td>14.76</td><td>23.93</td><td>6.32</td><td>47.46</td><td>127.90</td><td>6540</td><td>fast</td></tr>\n",
              "\t<tr><th scope=row>Schulz (GDR)</th><td>13.75</td><td>1.83</td><td>13.50</td><td>24.65</td><td>6.33</td><td>42.82</td><td>125.79</td><td>6411</td><td>fast</td></tr>\n",
              "</tbody>\n",
              "</table>\n"
            ],
            "text/markdown": "\nA data.frame: 6 × 9\n\n| <!--/--> | hurdles &lt;dbl&gt; | highjump &lt;dbl&gt; | shot &lt;dbl&gt; | run200m &lt;dbl&gt; | longjump &lt;dbl&gt; | javelin &lt;dbl&gt; | run800m &lt;dbl&gt; | score &lt;int&gt; | sprint &lt;fct&gt; |\n|---|---|---|---|---|---|---|---|---|---|\n| Joyner-Kersee (USA) | 12.69 | 1.86 | 15.80 | 22.56 | 7.27 | 45.66 | 128.51 | 7291 | fast |\n| John (GDR) | 12.85 | 1.80 | 16.23 | 23.65 | 6.71 | 42.56 | 126.12 | 6897 | fast |\n| Behmer (GDR) | 13.20 | 1.83 | 14.20 | 23.10 | 6.68 | 44.54 | 124.20 | 6858 | fast |\n| Sablovskaite (URS) | 13.61 | 1.80 | 15.23 | 23.92 | 6.25 | 42.78 | 132.24 | 6540 | slow |\n| Choubenkova (URS) | 13.51 | 1.74 | 14.76 | 23.93 | 6.32 | 47.46 | 127.90 | 6540 | fast |\n| Schulz (GDR) | 13.75 | 1.83 | 13.50 | 24.65 | 6.33 | 42.82 | 125.79 | 6411 | fast |\n\n",
            "text/latex": "A data.frame: 6 × 9\n\\begin{tabular}{r|lllllllll}\n  & hurdles & highjump & shot & run200m & longjump & javelin & run800m & score & sprint\\\\\n  & <dbl> & <dbl> & <dbl> & <dbl> & <dbl> & <dbl> & <dbl> & <int> & <fct>\\\\\n\\hline\n\tJoyner-Kersee (USA) & 12.69 & 1.86 & 15.80 & 22.56 & 7.27 & 45.66 & 128.51 & 7291 & fast\\\\\n\tJohn (GDR) & 12.85 & 1.80 & 16.23 & 23.65 & 6.71 & 42.56 & 126.12 & 6897 & fast\\\\\n\tBehmer (GDR) & 13.20 & 1.83 & 14.20 & 23.10 & 6.68 & 44.54 & 124.20 & 6858 & fast\\\\\n\tSablovskaite (URS) & 13.61 & 1.80 & 15.23 & 23.92 & 6.25 & 42.78 & 132.24 & 6540 & slow\\\\\n\tChoubenkova (URS) & 13.51 & 1.74 & 14.76 & 23.93 & 6.32 & 47.46 & 127.90 & 6540 & fast\\\\\n\tSchulz (GDR) & 13.75 & 1.83 & 13.50 & 24.65 & 6.33 & 42.82 & 125.79 & 6411 & fast\\\\\n\\end{tabular}\n",
            "text/plain": [
              "                    hurdles highjump shot  run200m longjump javelin run800m\n",
              "Joyner-Kersee (USA) 12.69   1.86     15.80 22.56   7.27     45.66   128.51 \n",
              "John (GDR)          12.85   1.80     16.23 23.65   6.71     42.56   126.12 \n",
              "Behmer (GDR)        13.20   1.83     14.20 23.10   6.68     44.54   124.20 \n",
              "Sablovskaite (URS)  13.61   1.80     15.23 23.92   6.25     42.78   132.24 \n",
              "Choubenkova (URS)   13.51   1.74     14.76 23.93   6.32     47.46   127.90 \n",
              "Schulz (GDR)        13.75   1.83     13.50 24.65   6.33     42.82   125.79 \n",
              "                    score sprint\n",
              "Joyner-Kersee (USA) 7291  fast  \n",
              "John (GDR)          6897  fast  \n",
              "Behmer (GDR)        6858  fast  \n",
              "Sablovskaite (URS)  6540  slow  \n",
              "Choubenkova (URS)   6540  fast  \n",
              "Schulz (GDR)        6411  fast  "
            ]
          },
          "metadata": {}
        }
      ]
    },
    {
      "cell_type": "markdown",
      "source": [
        "**Question-1**: Make a scatter plot between *sprint* (x-axis) and *score* (y-axis). What do you observe from this plot?"
      ],
      "metadata": {
        "id": "TN8cYAgGhmqJ"
      }
    },
    {
      "cell_type": "code",
      "source": [
        "p1 = ggplot(data = heptathlon, aes(x = sprint, y = score)) +\n",
        "   geom_point(size=3)\n",
        "p1"
      ],
      "metadata": {
        "id": "IDSeWz_GgcMT",
        "outputId": "e8885285-5655-4ddf-e794-e4997dd24351",
        "colab": {
          "base_uri": "https://localhost:8080/",
          "height": 437
        }
      },
      "execution_count": 5,
      "outputs": [
        {
          "output_type": "display_data",
          "data": {
            "text/plain": [
              "plot without title"
            ],
            "image/png": "[encoded data removed]"
          },
          "metadata": {
            "image/png": {
              "width": 420,
              "height": 420
            }
          }
        }
      ]
    },
    {
      "cell_type": "markdown",
      "source": [
        "**Question-2**: Make a scatter plot between *longjump* (x-axis) and *score* (y-axis) with the data points color-coded using *sprint*. What do you observe from this plot?"
      ],
      "metadata": {
        "id": "JGY6Q24th37t"
      }
    },
    {
      "cell_type": "code",
      "source": [
        "p2 = ggplot(data=heptathlon, aes(x = longjump, y = score, color = factor(sprint))) +\n",
        "  geom_point(size=5)\n",
        "p2"
      ],
      "metadata": {
        "id": "SFy6yFi-gynk",
        "outputId": "5c98c27e-eab6-4363-c4aa-bdc5fb515533",
        "colab": {
          "base_uri": "https://localhost:8080/",
          "height": 437
        }
      },
      "execution_count": 6,
      "outputs": [
        {
          "output_type": "display_data",
          "data": {
            "text/plain": [
              "plot without title"
            ],
            "image/png": "[encoded data removed]"
          },
          "metadata": {
            "image/png": {
              "width": 420,
              "height": 420
            }
          }
        }
      ]
    },
    {
      "cell_type": "markdown",
      "source": [
        "**Question-3**: Make a scatter plot between *run200m* (x-axis) and *longjump* (y-axis). What do you observe from this plot?"
      ],
      "metadata": {
        "id": "X0JnrB1UJcjl"
      }
    },
    {
      "cell_type": "code",
      "source": [
        "p3 = ggplot(data = heptathlon, aes(x = run200m, y = longjump)) +\n",
        "   geom_point(size=5)\n",
        "p3"
      ],
      "metadata": {
        "id": "rjdqXy86JSSM",
        "outputId": "f288d5e9-bead-43ce-abe6-90c3431d11ad",
        "colab": {
          "base_uri": "https://localhost:8080/",
          "height": 437
        }
      },
      "execution_count": 7,
      "outputs": [
        {
          "output_type": "display_data",
          "data": {
            "text/plain": [
              "plot without title"
            ],
            "image/png": "[encoded data removed]"
          },
          "metadata": {
            "image/png": {
              "width": 420,
              "height": 420
            }
          }
        }
      ]
    },
    {
      "cell_type": "markdown",
      "source": [
        "**Question-4**: Make a scatter plot between *run200m* (x-axis) and *longjump* (y-axis) with the data points color-coded using *sprint*. What do you observe from this plot?"
      ],
      "metadata": {
        "id": "GaQ8rXKQKJ_O"
      }
    },
    {
      "cell_type": "code",
      "source": [
        "p4 = ggplot(data=heptathlon, aes(x = run200m, y = longjump, color = factor(sprint))) +\n",
        "  geom_point(size=5)\n",
        "p4"
      ],
      "metadata": {
        "id": "AGF9jdnjLbnu",
        "outputId": "7b3fbc75-63d1-470e-86bd-d21bbba3b8f5",
        "colab": {
          "base_uri": "https://localhost:8080/",
          "height": 437
        }
      },
      "execution_count": 8,
      "outputs": [
        {
          "output_type": "display_data",
          "data": {
            "text/plain": [
              "plot without title"
            ],
            "image/png": "[encoded data removed]"
          },
          "metadata": {
            "image/png": {
              "width": 420,
              "height": 420
            }
          }
        }
      ]
    },
    {
      "cell_type": "markdown",
      "source": [
        "**Question-5**: Calculate Pearson's correlation between *run200m* and *longjump*. What do you observe?"
      ],
      "metadata": {
        "id": "5JKmt399M7bN"
      }
    },
    {
      "cell_type": "code",
      "source": [
        "cor(heptathlon$run200m, heptathlon$longjump, method = 'pearson')"
      ],
      "metadata": {
        "id": "wlSz_6lINFD4",
        "outputId": "7910e802-6d26-4b6a-8169-b457159f7bc2",
        "colab": {
          "base_uri": "https://localhost:8080/",
          "height": 34
        }
      },
      "execution_count": 9,
      "outputs": [
        {
          "output_type": "display_data",
          "data": {
            "text/html": [
              "-0.817205299701264"
            ],
            "text/markdown": "-0.817205299701264",
            "text/latex": "-0.817205299701264",
            "text/plain": [
              "[1] -0.8172053"
            ]
          },
          "metadata": {}
        }
      ]
    },
    {
      "cell_type": "markdown",
      "source": [
        "**Question-6**: Select data frame without *sprint* and *score* columns."
      ],
      "metadata": {
        "id": "1MAM0idRNXie"
      }
    },
    {
      "cell_type": "code",
      "source": [
        "hData = heptathlon %>% select(-c('sprint','score'))\n",
        "print(hData)"
      ],
      "metadata": {
        "id": "ZJXS0TzrNc9h",
        "colab": {
          "base_uri": "https://localhost:8080/"
        },
        "outputId": "2b673eb9-521d-4399-b6dc-b820c3f0a125"
      },
      "execution_count": 12,
      "outputs": [
        {
          "output_type": "stream",
          "name": "stdout",
          "text": [
            "                    hurdles highjump  shot run200m longjump javelin run800m\n",
            "Joyner-Kersee (USA)   12.69     1.86 15.80   22.56     7.27   45.66  128.51\n",
            "John (GDR)            12.85     1.80 16.23   23.65     6.71   42.56  126.12\n",
            "Behmer (GDR)          13.20     1.83 14.20   23.10     6.68   44.54  124.20\n",
            "Sablovskaite (URS)    13.61     1.80 15.23   23.92     6.25   42.78  132.24\n",
            "Choubenkova (URS)     13.51     1.74 14.76   23.93     6.32   47.46  127.90\n",
            "Schulz (GDR)          13.75     1.83 13.50   24.65     6.33   42.82  125.79\n",
            "Fleming (AUS)         13.38     1.80 12.88   23.59     6.37   40.28  132.54\n",
            "Greiner (USA)         13.55     1.80 14.13   24.48     6.47   38.00  133.65\n",
            "Lajbnerova (CZE)      13.63     1.83 14.28   24.86     6.11   42.20  136.05\n",
            "Bouraga (URS)         13.25     1.77 12.62   23.59     6.28   39.06  134.74\n",
            "Wijnsma (HOL)         13.75     1.86 13.01   25.03     6.34   37.86  131.49\n",
            "Dimitrova (BUL)       13.24     1.80 12.88   23.59     6.37   40.28  132.54\n",
            "Scheider (SWI)        13.85     1.86 11.58   24.87     6.05   47.50  134.93\n",
            "Braun (FRG)           13.71     1.83 13.16   24.78     6.12   44.58  142.82\n",
            "Ruotsalainen (FIN)    13.79     1.80 12.32   24.61     6.08   45.44  137.06\n",
            "Yuping (CHN)          13.93     1.86 14.21   25.00     6.40   38.60  146.67\n",
            "Hagger (GB)           13.47     1.80 12.75   25.47     6.34   35.76  138.48\n",
            "Brown (USA)           14.07     1.83 12.69   24.83     6.13   44.34  146.43\n",
            "Mulliner (GB)         14.39     1.71 12.68   24.92     6.10   37.76  138.02\n",
            "Hautenauve (BEL)      14.04     1.77 11.81   25.61     5.99   35.68  133.90\n",
            "Kytola (FIN)          14.31     1.77 11.66   25.69     5.75   39.48  133.35\n",
            "Geremias (BRA)        14.23     1.71 12.95   25.50     5.50   39.64  144.02\n",
            "Hui-Ing (TAI)         14.85     1.68 10.00   25.23     5.47   39.14  137.30\n",
            "Jeong-Mi (KOR)        14.53     1.71 10.83   26.61     5.50   39.26  139.17\n",
            "Launa (PNG)           16.42     1.50 11.78   26.16     4.88   46.38  163.43\n"
          ]
        }
      ]
    },
    {
      "cell_type": "markdown",
      "source": [
        "**Question 7**: From the output of the cell below, answer the following questions:\n",
        "\n",
        "1. Which principal component assigns the least weight (in magnitude) to *run200m*? \n",
        "2. Which principal component assigns the greatest weight (in magnitude) to *highjump*? \n",
        "3. *True/false*: the 2nd principal component score for a sample assigns a maximum weight to *javelin*.\n",
        "4. The 1st principal component assigns the greatest weight (in magnitude) to which feature?"
      ],
      "metadata": {
        "id": "d2x4IksuN86o"
      }
    },
    {
      "cell_type": "code",
      "source": [
        "# Calculate eigenvalues & eigenvectors of sample covariance matrix\n",
        "e = eigen(cov(hData)) \n",
        "\n",
        "# Eigenvectors of the sample covariance matrix\n",
        "u =e$vectors\n",
        "\n",
        "# Eigenvalues of the sample covariance matrix\n",
        "lambda = e$values\n",
        "\n",
        "# Extract data matrix from data frame\n",
        "X = as.matrix(hData)\n",
        "\n",
        "# Print first sample\n",
        "print(X[1, ]) \n",
        "\n",
        "# Print the first 3 eigenvectors or principal directions\n",
        "print(u[, 1:3]) "
      ],
      "metadata": {
        "id": "WMIxdyl_OQ1b",
        "colab": {
          "base_uri": "https://localhost:8080/"
        },
        "outputId": "bf2736b0-a936-4933-9cef-3fef378f1ff8"
      },
      "execution_count": 13,
      "outputs": [
        {
          "output_type": "stream",
          "name": "stdout",
          "text": [
            " hurdles highjump     shot  run200m longjump  javelin  run800m \n",
            "   12.69     1.86    15.80    22.56     7.27    45.66   128.51 \n",
            "             [,1]          [,2]        [,3]\n",
            "[1,]  0.069508692  0.0094891417  0.22180829\n",
            "[2,] -0.005569781 -0.0005647147 -0.01451405\n",
            "[3,] -0.077906090 -0.1359282330 -0.88374045\n",
            "[4,]  0.072967545  0.1012004268  0.31005700\n",
            "[5,] -0.040369299 -0.0148845034 -0.18494319\n",
            "[6,]  0.006685584 -0.9852954510  0.16021268\n",
            "[7,]  0.990994208 -0.0127652701 -0.11655815\n"
          ]
        }
      ]
    },
    {
      "cell_type": "markdown",
      "source": [
        "**Question-8**: How many minimum principal components are needed to explain more than 92% of the variance in the data? In one line, explain how you could use the corresponding principal component scores (projected values) to get a final score for each athlete so that they can be ranked."
      ],
      "metadata": {
        "id": "eFJrGA4nQsME"
      }
    },
    {
      "cell_type": "code",
      "source": [
        "#1 princple component is needed \n",
        "varPercent = (lambda/sum(lambda))*100\n",
        "\n",
        "cumsum(varPercent)"
      ],
      "metadata": {
        "id": "eTb9yhcuQv_i",
        "colab": {
          "base_uri": "https://localhost:8080/",
          "height": 34
        },
        "outputId": "4aab2502-8e6d-4e45-aaad-f09d1e5e7b05"
      },
      "execution_count": 14,
      "outputs": [
        {
          "output_type": "display_data",
          "data": {
            "text/html": [
              "<style>\n",
              ".list-inline {list-style: none; margin:0; padding: 0}\n",
              ".list-inline>li {display: inline-block}\n",
              ".list-inline>li:not(:last-child)::after {content: \"\\00b7\"; padding: 0 .5ex}\n",
              "</style>\n",
              "<ol class=list-inline><li>82.0699617144921</li><li>97.1956174217472</li><li>99.4479178028358</li><li>99.8503190237631</li><li>99.9733142396671</li><li>99.9987032320879</li><li>100</li></ol>\n"
            ],
            "text/markdown": "1. 82.0699617144921\n2. 97.1956174217472\n3. 99.4479178028358\n4. 99.8503190237631\n5. 99.9733142396671\n6. 99.9987032320879\n7. 100\n\n\n",
            "text/latex": "\\begin{enumerate*}\n\\item 82.0699617144921\n\\item 97.1956174217472\n\\item 99.4479178028358\n\\item 99.8503190237631\n\\item 99.9733142396671\n\\item 99.9987032320879\n\\item 100\n\\end{enumerate*}\n",
            "text/plain": [
              "[1]  82.06996  97.19562  99.44792  99.85032  99.97331  99.99870 100.00000"
            ]
          },
          "metadata": {}
        }
      ]
    },
    {
      "cell_type": "markdown",
      "source": [
        "**Question 9**: how many levels does the categorical variable *sprint* have? What is the reference level? "
      ],
      "metadata": {
        "id": "KjevgCitSqkt"
      }
    },
    {
      "cell_type": "code",
      "source": [
        "print(levels(heptathlon$sprint))\n",
        "contrasts(heptathlon$sprint)"
      ],
      "metadata": {
        "id": "osbFtC2ZTBGd",
        "colab": {
          "base_uri": "https://localhost:8080/",
          "height": 164
        },
        "outputId": "3fa320fc-8f7d-490e-9345-a205b04bb301"
      },
      "execution_count": 17,
      "outputs": [
        {
          "output_type": "stream",
          "name": "stdout",
          "text": [
            "[1] \"fast\" \"slow\"\n"
          ]
        },
        {
          "output_type": "display_data",
          "data": {
            "text/html": [
              "<table class=\"dataframe\">\n",
              "<caption>A matrix: 2 × 1 of type dbl</caption>\n",
              "<thead>\n",
              "\t<tr><th></th><th scope=col>slow</th></tr>\n",
              "</thead>\n",
              "<tbody>\n",
              "\t<tr><th scope=row>fast</th><td>0</td></tr>\n",
              "\t<tr><th scope=row>slow</th><td>1</td></tr>\n",
              "</tbody>\n",
              "</table>\n"
            ],
            "text/markdown": "\nA matrix: 2 × 1 of type dbl\n\n| <!--/--> | slow |\n|---|---|\n| fast | 0 |\n| slow | 1 |\n\n",
            "text/latex": "A matrix: 2 × 1 of type dbl\n\\begin{tabular}{r|l}\n  & slow\\\\\n\\hline\n\tfast & 0\\\\\n\tslow & 1\\\\\n\\end{tabular}\n",
            "text/plain": [
              "     slow\n",
              "fast 0   \n",
              "slow 1   "
            ]
          },
          "metadata": {}
        }
      ]
    },
    {
      "cell_type": "markdown",
      "source": [
        "**Question 10**: fit a linear model for approximating *score* as a function of *shot* and *sprint*. Print the model's summary. How accurate is the model?"
      ],
      "metadata": {
        "id": "8TfmUgYmTTop"
      }
    },
    {
      "cell_type": "code",
      "source": [
        "model = lm(data = heptathlon, score ~ shot + sprint)\n",
        "summary(model)"
      ],
      "metadata": {
        "id": "TXNGUyWjTrN9",
        "colab": {
          "base_uri": "https://localhost:8080/",
          "height": 347
        },
        "outputId": "70fba7a5-3cf3-47d6-9017-3f8e34f4c927"
      },
      "execution_count": 18,
      "outputs": [
        {
          "output_type": "display_data",
          "data": {
            "text/plain": [
              "\n",
              "Call:\n",
              "lm(formula = score ~ shot + sprint, data = heptathlon)\n",
              "\n",
              "Residuals:\n",
              "     Min       1Q   Median       3Q      Max \n",
              "-1124.58  -164.40    35.93   207.34   496.35 \n",
              "\n",
              "Coefficients:\n",
              "            Estimate Std. Error t value Pr(>|t|)    \n",
              "(Intercept)   3080.0      883.0   3.488 0.002084 ** \n",
              "shot           249.7       58.4   4.275 0.000308 ***\n",
              "sprintslow    -330.4      213.4  -1.548 0.135842    \n",
              "---\n",
              "Signif. codes:  0 ‘***’ 0.001 ‘**’ 0.01 ‘*’ 0.05 ‘.’ 0.1 ‘ ’ 1\n",
              "\n",
              "Residual standard error: 338.5 on 22 degrees of freedom\n",
              "Multiple R-squared:  0.6749,\tAdjusted R-squared:  0.6454 \n",
              "F-statistic: 22.84 on 2 and 22 DF,  p-value: 4.282e-06\n"
            ]
          },
          "metadata": {}
        }
      ]
    },
    {
      "cell_type": "markdown",
      "source": [
        "**Question 11**: fit a linear model for approximating *score* as a function of *shot*, *javelin*, and *sprint*. Print the model's summary and answer the following questions:\n",
        "\n",
        "1. Did the addition of the new predictor *javelin* imporve the model accuracy? \n",
        "2. *True/false* (explain in one line): the model suggests that there is a possible linear relationship between an athlete's score and javelin performance.\n",
        "3. For a 1 metre increase in shot put throw and with the same javelin and sprint performance, we can say with 99% confidence that the athlete's score will increase/decrease by an amount in the interval [?, ?].\n",
        "\n",
        "1. no\n",
        "2. false\n",
        "3. [-3*(59.669), +3*(59.669)]"
      ],
      "metadata": {
        "id": "aK_TiMibWhi_"
      }
    },
    {
      "cell_type": "code",
      "source": [
        "model = lm(data = heptathlon, score ~ shot + sprint + javelin)\n",
        "summary(model)"
      ],
      "metadata": {
        "id": "fiFG9GL-WKj3",
        "colab": {
          "base_uri": "https://localhost:8080/",
          "height": 364
        },
        "outputId": "78801fcf-26d0-48fc-d714-a6fa46eea9f0"
      },
      "execution_count": 19,
      "outputs": [
        {
          "output_type": "display_data",
          "data": {
            "text/plain": [
              "\n",
              "Call:\n",
              "lm(formula = score ~ shot + sprint + javelin, data = heptathlon)\n",
              "\n",
              "Residuals:\n",
              "     Min       1Q   Median       3Q      Max \n",
              "-1090.63  -173.25    12.63   203.29   537.00 \n",
              "\n",
              "Coefficients:\n",
              "            Estimate Std. Error t value Pr(>|t|)    \n",
              "(Intercept) 3349.127   1347.536   2.485  0.02144 *  \n",
              "shot         249.548     59.669   4.182  0.00042 ***\n",
              "sprintslow  -354.060    235.151  -1.506  0.14705    \n",
              "javelin       -5.996     22.297  -0.269  0.79061    \n",
              "---\n",
              "Signif. codes:  0 ‘***’ 0.001 ‘**’ 0.01 ‘*’ 0.05 ‘.’ 0.1 ‘ ’ 1\n",
              "\n",
              "Residual standard error: 345.9 on 21 degrees of freedom\n",
              "Multiple R-squared:  0.676,\tAdjusted R-squared:  0.6298 \n",
              "F-statistic: 14.61 on 3 and 21 DF,  p-value: 2.301e-05\n"
            ]
          },
          "metadata": {}
        }
      ]
    },
    {
      "cell_type": "markdown",
      "source": [
        "**Question 12**: fit a linear model for approximating *score* as a function of *highjump*, and *sprint*. Print the model's summary and answer the following questions:\n",
        "1. How accurate is this model?\n",
        "2. Considering a p-value of 10% as cutoff, are there any insignificant features?"
      ],
      "metadata": {
        "id": "zhGiXlKiaRSv"
      }
    },
    {
      "cell_type": "code",
      "source": [
        "model = lm(data = heptathlon, score ~ highjump + sprint)\n",
        "summary(model)"
      ],
      "metadata": {
        "id": "VE246Jl-aXmp",
        "colab": {
          "base_uri": "https://localhost:8080/",
          "height": 347
        },
        "outputId": "5a180472-efc8-4cee-e666-06349d4c63a8"
      },
      "execution_count": 20,
      "outputs": [
        {
          "output_type": "display_data",
          "data": {
            "text/plain": [
              "\n",
              "Call:\n",
              "lm(formula = score ~ highjump + sprint, data = heptathlon)\n",
              "\n",
              "Residuals:\n",
              "    Min      1Q  Median      3Q     Max \n",
              "-476.12 -162.88  -29.12  146.92  502.33 \n",
              "\n",
              "Coefficients:\n",
              "            Estimate Std. Error t value Pr(>|t|)    \n",
              "(Intercept)  -2030.8     1175.5  -1.728   0.0981 .  \n",
              "highjump      4873.2      646.0   7.544 1.54e-07 ***\n",
              "sprintslow    -703.3      123.3  -5.702 9.81e-06 ***\n",
              "---\n",
              "Signif. codes:  0 ‘***’ 0.001 ‘**’ 0.01 ‘*’ 0.05 ‘.’ 0.1 ‘ ’ 1\n",
              "\n",
              "Residual standard error: 241.9 on 22 degrees of freedom\n",
              "Multiple R-squared:  0.8341,\tAdjusted R-squared:  0.819 \n",
              "F-statistic: 55.29 on 2 and 22 DF,  p-value: 2.625e-09\n"
            ]
          },
          "metadata": {}
        }
      ]
    },
    {
      "cell_type": "markdown",
      "source": [
        "**Question 13**: Using the model built above, extract the slope and intercept for estimating the *score* of *slow* and *fast* athletes. It would be helpful to start with the regression equation $\\hat{y}^{(i)} = \\hat{\\beta}_0 + \\hat{\\beta}_1x_1^{(i)} + \\hat{\\beta}_2x_2^{(i)},$ and then write two separate equations for *slow* and *fast* athletes."
      ],
      "metadata": {
        "id": "RVWY6flOX1Ds"
      }
    },
    {
      "cell_type": "code",
      "source": [
        "intercept_slow = coef(model)[('Intercept')] + coef(model)[('sprintslow')]\n",
        "intercept_fast = coef(model)[('Intercept')]\n",
        "\n",
        "slope_slow = coef(model)[('highjump')]\n",
        "slope_fast = coef(model)[('highjump')]"
      ],
      "metadata": {
        "id": "6UHiJ-yQYVxV"
      },
      "execution_count": 21,
      "outputs": []
    },
    {
      "cell_type": "markdown",
      "source": [
        "**Question 14**: fit a linear model for approximating *score* as a function of *shot*, *highjump*, *sprint*, and an interaction between *highjump* and *sprint*. Print the model's summary. and answer the following questions:\n",
        "1. How accurate is this model?\n",
        "2. Considering a p-value of 10% as cutoff, are there any insignificant features?"
      ],
      "metadata": {
        "id": "vBDzPiBwbSzP"
      }
    },
    {
      "cell_type": "code",
      "source": [
        "model = lm(data = heptathlon, score ~ shot + highjump + sprint + highjump*sprint)\n",
        "summary(model)"
      ],
      "metadata": {
        "id": "SWGFulSKYlXZ",
        "colab": {
          "base_uri": "https://localhost:8080/",
          "height": 399
        },
        "outputId": "10d524ca-0e2d-4690-d09c-6b2455517ce3"
      },
      "execution_count": 22,
      "outputs": [
        {
          "output_type": "display_data",
          "data": {
            "text/plain": [
              "\n",
              "Call:\n",
              "lm(formula = score ~ shot + highjump + sprint + highjump * sprint, \n",
              "    data = heptathlon)\n",
              "\n",
              "Residuals:\n",
              "    Min      1Q  Median      3Q     Max \n",
              "-384.99 -104.08  -36.73  127.39  363.88 \n",
              "\n",
              "Coefficients:\n",
              "                    Estimate Std. Error t value Pr(>|t|)    \n",
              "(Intercept)         -3070.67    3779.92  -0.812 0.426147    \n",
              "shot                  144.93      35.81   4.047 0.000631 ***\n",
              "highjump             4255.50    2064.34   2.061 0.052501 .  \n",
              "sprintslow            178.81    3887.03   0.046 0.963765    \n",
              "highjump:sprintslow  -328.37    2142.28  -0.153 0.879711    \n",
              "---\n",
              "Signif. codes:  0 ‘***’ 0.001 ‘**’ 0.01 ‘*’ 0.05 ‘.’ 0.1 ‘ ’ 1\n",
              "\n",
              "Residual standard error: 187.8 on 20 degrees of freedom\n",
              "Multiple R-squared:  0.909,\tAdjusted R-squared:  0.8908 \n",
              "F-statistic: 49.95 on 4 and 20 DF,  p-value: 3.925e-10\n"
            ]
          },
          "metadata": {}
        }
      ]
    },
    {
      "cell_type": "markdown",
      "source": [
        "**Question 15**: Complete the build the model from the previous question using the training data. Predict the model performance by applying it to the test data."
      ],
      "metadata": {
        "id": "ssAikIJMdLyu"
      }
    },
    {
      "cell_type": "code",
      "source": [
        "# Split the data into 80% train and 20% test parts\n",
        "set.seed(0)\n",
        "train_ind = sample(seq_len(nrow(hData)), size = floor(0.8 * nrow(hData)))\n",
        "\n",
        "hDataTrain = heptathlon[train_ind, ]\n",
        "hDataTest = heptathlon[-train_ind, ]\n",
        "\n",
        "# Predict on the test data\n",
        "print(predict(model, hDataTest))\n",
        "\n",
        "# Print the true scores for the test data\n",
        "print()"
      ],
      "metadata": {
        "id": "y0919mOJdPNN",
        "colab": {
          "base_uri": "https://localhost:8080/",
          "height": 183
        },
        "outputId": "9e6ced8c-9431-4462-cb50-84aaa95923a0"
      },
      "execution_count": 23,
      "outputs": [
        {
          "output_type": "stream",
          "name": "stdout",
          "text": [
            "  Behmer (GDR)  Greiner (USA) Scheider (SWI)   Kytola (FIN) Jeong-Mi (KOR) \n",
            "      6774.841       6224.770       6090.839       5748.991       5393.075 \n"
          ]
        },
        {
          "output_type": "error",
          "ename": "ERROR",
          "evalue": "ignored",
          "traceback": [
            "Error in print.default(): argument \"x\" is missing, with no default\nTraceback:\n",
            "1. print()",
            "2. print.default()"
          ]
        }
      ]
    }
  ]
}