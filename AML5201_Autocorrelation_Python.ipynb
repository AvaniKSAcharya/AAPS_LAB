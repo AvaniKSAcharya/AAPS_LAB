{
  "nbformat": 4,
  "nbformat_minor": 0,
  "metadata": {
    "colab": {
      "name": "AML5201_Autocorrelation_Python.ipynb",
      "provenance": [],
      "collapsed_sections": []
    },
    "kernelspec": {
      "name": "python3",
      "display_name": "Python 3"
    }
  },
  "cells": [
    {
      "cell_type": "code",
      "metadata": {
        "id": "uV3Bp4vVPSv7"
      },
      "source": [
        "# Mount Google drive folder\n",
        "from google.colab import drive\n",
        "drive.mount('/content/drive')"
      ],
      "execution_count": null,
      "outputs": []
    },
    {
      "cell_type": "code",
      "metadata": {
        "id": "BZLeh7V3Pfha"
      },
      "source": [
        "import pandas as pd\n",
        "import numpy as np\n",
        "import os\n",
        "import sympy as sp\n",
        "import matplotlib.pyplot as plt\n",
        "import matplotlib.cm as cm\n",
        "plt.style.use('seaborn-whitegrid')\n",
        "%matplotlib inline"
      ],
      "execution_count": null,
      "outputs": []
    },
    {
      "cell_type": "code",
      "metadata": {
        "id": "oWcF-y-8PZLL"
      },
      "source": [
        "# Setup working directory and load data\n",
        "DIR = '/content/drive/MyDrive/Colab Notebooks/MAHE/MSIS Coursework/EvenSem2022MAHE/'\n",
        "FILENAMELIST = ['Data/hr1.txt', 'Data/hr2.txt']\n",
        "os.chdir(DIR)\n",
        "df = pd.concat([pd.read_csv(item, header = None) for item in FILENAMELIST], axis=1)\n",
        "df.columns = ['HeartRateOne', 'HeartRateTwo']\n",
        "df.insert(loc = 0, column = 'Time', value = np.arange(0, (df.shape[0]-1)*0.5 + 0.5, 0.5))"
      ],
      "execution_count": null,
      "outputs": []
    },
    {
      "cell_type": "code",
      "metadata": {
        "id": "4HW1mb2x4s8f"
      },
      "source": [
        "stdev = lambda x: np.linalg.norm(x - np.mean(x)) / np.sqrt(len(x))"
      ],
      "execution_count": null,
      "outputs": []
    },
    {
      "cell_type": "code",
      "metadata": {
        "id": "QWsCUXGN37pL"
      },
      "source": [
        "def plotveccomp(x, name = None, axis = None):\n",
        "  ax = axis\n",
        "  component_index = range(0, len(x))\n",
        "  ax.plot(component_index, x, color = 'black') \n",
        "  ax.plot(component_index, [np.mean(x)]*len(x), linewidth = 1, linestyle = 'dashed', color ='blue') \n",
        "  ax.plot(component_index, [np.mean(x) - stdev(x)]*len(x), linewidth = 1, linestyle = 'dashed', color ='red')\n",
        "  ax.plot(component_index, [np.mean(x) + stdev(x)]*len(x), linewidth = 1, linestyle = 'dashed', color ='red')\n",
        "  ax.set_xlabel('Component')\n",
        "  ax.set_ylabel(name)\n",
        "  #ax.set_title(' '.join(name.split()[0:2]) +  ' Vector')"
      ],
      "execution_count": null,
      "outputs": []
    },
    {
      "cell_type": "code",
      "metadata": {
        "id": "FYZKKxD44DGU"
      },
      "source": [
        "fig, (ax1, ax2) = plt.subplots(2, 1, figsize = (6,6))\n",
        "fig.tight_layout(pad = 4.0)\n",
        "plotveccomp(df['HeartRateOne'], 'Heart Rate-1 (BPM)', ax1)\n",
        "plotveccomp(df['HeartRateTwo'], 'Heart Rate-2 (BPM)', ax2)"
      ],
      "execution_count": null,
      "outputs": []
    },
    {
      "cell_type": "code",
      "metadata": {
        "id": "a2yit1sgS7sP"
      },
      "source": [
        "def calcautocorr(x, lag = 0):\n",
        "  # Build extended and lagged versions of vector\n",
        "  a = np.hstack((x, np.mean(x)*np.ones(lag)))\n",
        "  b = np.hstack((np.mean(x)*np.ones(lag), x))\n",
        "  # Calculate correlation coefficient between de-meaned versions\n",
        "  a_dm = a - np.mean(a)\n",
        "  b_dm = b - np.mean(b)\n",
        "  return(np.dot(a_dm, b_dm)/(np.linalg.norm(a_dm) * np.linalg.norm(b_dm)))"
      ],
      "execution_count": null,
      "outputs": []
    },
    {
      "cell_type": "code",
      "metadata": {
        "id": "YT9JS6QSTej6"
      },
      "source": [
        "HeartRateOne_AutoCorr = [calcautocorr(df['HeartRateOne'], lag = j)\n",
        " for j in np.arange(0,len(df['HeartRateOne']))]\n",
        "fig, ax3 = plt.subplots(1, 1, figsize = (6,6))\n",
        "fig.tight_layout(pad = 4.0)\n",
        "component_index = range(0, len(HeartRateOne_AutoCorr))\n",
        "ax3.plot(component_index, HeartRateOne_AutoCorr, color = 'black') \n",
        "ax3.set_xlabel('Component')"
      ],
      "execution_count": null,
      "outputs": []
    }
  ]
}