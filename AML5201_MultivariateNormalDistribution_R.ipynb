{
  "nbformat": 4,
  "nbformat_minor": 0,
  "metadata": {
    "kernelspec": {
      "display_name": "R",
      "language": "R",
      "name": "ir"
    },
    "language_info": {
      "codemirror_mode": "r",
      "file_extension": ".r",
      "mimetype": "text/x-r-source",
      "name": "R",
      "pygments_lexer": "r",
      "version": "3.3.1"
    },
    "colab": {
      "name": "AML5201_MultivariateNormalDistribution_R.ipynb",
      "provenance": [],
      "collapsed_sections": []
    }
  },
  "cells": [
    {
      "cell_type": "markdown",
      "metadata": {
        "id": "m_0IeRbLGWjA"
      },
      "source": [
        "**Install packages**"
      ]
    },
    {
      "cell_type": "code",
      "metadata": {
        "id": "aLeB1yyiGTUJ"
      },
      "source": [
        "# A collection of data sets to accompany the textbook\n",
        "# \"Using R for Introductory Statistics,\" second edition.\n",
        "install.packages(\"UsingR\")\n",
        "\n",
        "# Package for ggplot2 enhancements\n",
        "install.packages(\"ggExtra\")\n",
        "\n",
        "# Package for multivariate normal distribution\n",
        "install.packages('mvtnorm')"
      ],
      "execution_count": null,
      "outputs": []
    },
    {
      "cell_type": "markdown",
      "metadata": {
        "id": "cBwU1D1ib2o6"
      },
      "source": [
        "**Load essential libraries**"
      ]
    },
    {
      "cell_type": "code",
      "metadata": {
        "id": "4DhQTLweb138"
      },
      "source": [
        "library(ggplot2) # library for plotting\n",
        "library(dplyr) # library for data wrangling\n",
        "library(UsingR) # library for data sets\n",
        "library(ggExtra) # library for enhanced ggplot2 plots\n",
        "library(mvtnorm) # library for multivariate normal distribution\n",
        "library(dplyr) # library for data wrangling\n",
        "library(tidyr) # library to reorganize data"
      ],
      "execution_count": null,
      "outputs": []
    },
    {
      "cell_type": "code",
      "metadata": {
        "id": "vxwBaCjBXUzM"
      },
      "source": [
        "# Father-Son heights (in inches) dataset\n",
        "dfFatherSon = father.son\n",
        "head(dfFatherSon, n = 5)\n",
        "str(dfFatherSon)"
      ],
      "execution_count": null,
      "outputs": []
    },
    {
      "cell_type": "code",
      "metadata": {
        "id": "XbN26Lt6GGra"
      },
      "source": [
        "# Sample mean of father and son heights\n",
        "mu = colMeans(dfFatherSon)\n",
        "print('Sample mean vector = ')\n",
        "print(mu)\n",
        "# Sample covariance matrix between father and son heights\n",
        "S = cov(dfFatherSon)\n",
        "print('Sample covariance matrix = ')\n",
        "print(S)"
      ],
      "execution_count": null,
      "outputs": []
    },
    {
      "cell_type": "code",
      "metadata": {
        "id": "vyMGkm_UfP-m"
      },
      "source": [
        "# Wide to long dataframe\n",
        "df_gather = gather(dfFatherSon)\n",
        "colnames(df_gather) = c('Variable', 'Value')\n",
        "head(df_gather)"
      ],
      "execution_count": null,
      "outputs": []
    },
    {
      "cell_type": "code",
      "metadata": {
        "id": "opRC2Lm_ZyU3"
      },
      "source": [
        "# Separate density plots for fathers heights and sons heights\n",
        "df_gather %>% ggplot(aes(x = Value, fill = Variable, color = Variable))+\n",
        "geom_density(alpha = 0.3)+ggtitle('Distibution of X')"
      ],
      "execution_count": null,
      "outputs": []
    },
    {
      "cell_type": "markdown",
      "metadata": {
        "id": "UaEq_QAQUdBj"
      },
      "source": [
        "Plot of the PDF of $X_1\\sim N(\\mu_F = \\text{mean father height},\\sigma_F = \\text{std. father height})$ given by $f_{X_1}(x) = \\frac{1}{\\sqrt{2\\pi\\sigma_F^2}}e^{\\frac{(x-\\mu_F)^2}{2\\sigma_F^2}}$ highlighting the area under the curve between $-\\sigma\\leq x\\leq\\sigma.$"
      ]
    },
    {
      "cell_type": "code",
      "metadata": {
        "id": "oBb8SeGiUhas"
      },
      "source": [
        "mu_F = mu[1]\n",
        "sigma_F = sqrt(S[1,1])\n",
        "cat(sprintf('Sample mean of fathers heights = %f\\n', mu_F))\n",
        "cat(sprintf('Sample standard deviation of fathers heights = %f\\n', sigma_F))\n",
        "x = seq(mu_F-4*sigma_F, mu_F+4*sigma_F, by = (8*sigma_F)/1000)\n",
        "y = dnorm(x = x, mean = mu_F, sd = sigma_F)\n",
        "\n",
        "df = data.frame(x, y)\n",
        "p = ggplot(df) +\n",
        "  geom_line(aes(x, y)) +\n",
        "  geom_ribbon(data = df %>% filter(x >= mu_F-sigma_F & x <= mu_F+sigma_F),  aes(x = x,\n",
        "                  ymin = 0, ymax = y), fill = \"blue\") +\n",
        "  labs(x = 'x', y = 'f(x)', title = 'Modeling Probability Density Function of a Father Heights') +\n",
        "  theme(axis.text = element_text(size = 12),\n",
        "  axis.text.x = element_text(size = 14),\n",
        "  axis.text.y = element_text(size = 14),\n",
        "  axis.title =element_text(size = 14, face = \"bold\"))\n",
        "p "
      ],
      "execution_count": null,
      "outputs": []
    },
    {
      "cell_type": "code",
      "metadata": {
        "id": "g94I-NSVtndE"
      },
      "source": [
        "# Scatter plot of fathers heights vs. sons heights\n",
        "p1 = ggplot(data = dfFatherSon, aes(x = fheight, y = sheight)) + \n",
        "geom_point(size = 2, alpha = 0.7) + xlab(\"Height of father\") + \n",
        "   ylab(\"Height of son\") + ggtitle(\"Father-son Height Data\") +\n",
        "   coord_fixed(ratio = 1) +\n",
        "   stat_ellipse(level = 0.68, color = 'red')+\n",
        "   stat_ellipse(level = 0.95, color = 'green')+\n",
        "   stat_ellipse(level = 0.997, color = 'blue')\n",
        "p1"
      ],
      "execution_count": null,
      "outputs": []
    },
    {
      "cell_type": "code",
      "metadata": {
        "id": "pk9lBQPjMVO7"
      },
      "source": [
        "# Sample covariance matrix\n",
        "print('Sample covariance matrix = ')\n",
        "print(S)\n",
        "\n",
        "## Two ways of looking at the sample covariance matrix\n",
        "# (1) In terms of covariance between features\n",
        "((dfFatherSon$fheight - mean(dfFatherSon$fheight)) %*% (dfFatherSon$sheight - mean(dfFatherSon$sheight))) / (nrow(dfFatherSon)-1)\n",
        "\n",
        "# (2) In terms of samples\n",
        "X = t(as.matrix(dfFatherSon))\n",
        "(X - rowMeans(X)) %*% t(X - rowMeans(X)) / (nrow(dfFatherSon))"
      ],
      "execution_count": null,
      "outputs": []
    },
    {
      "cell_type": "code",
      "metadata": {
        "id": "PPWEH2tKrxVN"
      },
      "source": [
        "# Plot marginal density of father heights\n",
        "# using sample father height mean standard deviation \n",
        "mu_F = mu[1]\n",
        "sigma_F = sqrt(S[1,1])\n",
        "cat(sprintf('Sample mean of fathers heights = %f\\n', mu_F))\n",
        "cat(sprintf('Sample standard deviation of fathers heights = %f\\n', sigma_F))\n",
        "delta = 0.5 # bin width\n",
        "p2 =  ggplot(data = dfFatherSon, aes(x = fheight)) +\n",
        "  geom_histogram(aes(y =..density..),\n",
        "  breaks = seq(mu_F-4*sigma_F, mu_F+4*sigma_F, by = delta),\n",
        "  colour = \"black\", fill = \"steelblue\") +\n",
        "  stat_function(fun = dnorm, args = list(mean = mu_F, sd = sigma_F)) +\n",
        "  labs(x = 'Height (in)', y = 'Proportion') + \n",
        "  ggtitle(\"Fathers height histogram and density curve\") +\n",
        "  theme(axis.text = element_text(size = 12),\n",
        "  axis.text.x = element_text(size = 14),\n",
        "  axis.text.y = element_text(size = 14),\n",
        "  axis.title =element_text(size = 14, face = \"bold\"))\n",
        "p2  "
      ],
      "execution_count": null,
      "outputs": []
    },
    {
      "cell_type": "code",
      "metadata": {
        "id": "fGPSxPPVunXb"
      },
      "source": [
        "# Plot marginal density of son heights\n",
        "# using sample son height mean standard deviation \n",
        "mu_S = mu[2]\n",
        "sigma_S = sqrt(S[2,2])\n",
        "cat(sprintf('Sample mean of sons heights = %f\\n', mu_S))\n",
        "cat(sprintf('Sample standard deviation of sons heights = %f\\n', sigma_S))\n",
        "delta = 0.5 # bin width\n",
        "p3 =  ggplot(data = dfFatherSon, aes(x = sheight)) +\n",
        "  geom_histogram(aes(y =..density..),\n",
        "  breaks = seq(mu_S-4*sigma_S, mu_S+4*sigma_S, by = delta),\n",
        "  colour = \"black\", fill = \"steelblue\") +\n",
        "  stat_function(fun = dnorm, args = list(mean = mu_S, sd = sigma_S)) +\n",
        "  labs(x = 'Height (in)', y = 'Proportion') + \n",
        "  ggtitle(\"Sons height histogram and density curve\") +\n",
        "  theme(axis.text = element_text(size = 12),\n",
        "  axis.text.x = element_text(size = 14),\n",
        "  axis.text.y = element_text(size = 14),\n",
        "  axis.title =element_text(size = 14, face = \"bold\"))\n",
        "p3"
      ],
      "execution_count": null,
      "outputs": []
    },
    {
      "cell_type": "code",
      "metadata": {
        "id": "rIUznLZ8ZxFB"
      },
      "source": [
        "# Add marginal histogram plot to the scatter plot of father height vs. son height\n",
        "ggMarginal(p1, type = 'histogram', color = 'black', binwidth = delta)\n",
        "\n",
        "# Add marginal density plot to the scatter plot\n",
        "ggMarginal(p1, type = 'density', color = 'cyan')\n",
        "\n",
        "# Add marginal boxplot to the scatter plot\n",
        "#ggMarginal(p1, type = \"boxplot\")"
      ],
      "execution_count": null,
      "outputs": []
    },
    {
      "cell_type": "code",
      "metadata": {
        "id": "KofQdATIz1US"
      },
      "source": [
        "# Convert dataframe into matrix\n",
        "X = as.matrix(dfFatherSon)\n",
        "x10 = X[10, ] # 10th sample\n",
        "x20 = X[20, ] # 20th sample\n",
        "print('Sample 10:')\n",
        "x10\n",
        "print('Sample 20:')\n",
        "x20\n",
        "# Euclidean distance between samples 10 and 20\n",
        "cat(sprintf('Euclidean distance between samples 10 and 20 = %f\\n', norm(x10-x20, type = '2')))\n",
        "# Mahalanobis distance between samples 10 and 20\n",
        "M = sqrt(t(x10-x20) %*% solve(S) %*% (x10-x20))\n",
        "cat(sprintf('Mahalanobis distance between samples 10 and 20 = %f\\n', M))"
      ],
      "execution_count": null,
      "outputs": []
    },
    {
      "cell_type": "code",
      "metadata": {
        "id": "iXNHYb1Wyd2z"
      },
      "source": [
        "# What is the probability that a randomly chosen father-son pair has\n",
        "# father height between 65 in and 70 in\n",
        "# and son height between 70 in and 75 in \n",
        "\n",
        "# Approximate probability using Monte-Carlo\n",
        "p = mean((X[, 1] >= 65 & X[, 1] <= 70) & (X[, 2] >= 70 & X[, 2] <= 75))\n",
        "cat(sprintf('Approximate probability using Monte-Carlo = %f\\n', p))\n",
        "\n",
        "# Approximate probability using bivariate normal distribution model\n",
        "# built using sample information\n",
        "p = pmvnorm(c(65, 70), c(70, 75), mean = colMeans(X), sigma = cov(X))\n",
        "cat(sprintf('Approximate probability using bivariate normal distribution model built using sample information = %f\\n', p))"
      ],
      "execution_count": null,
      "outputs": []
    },
    {
      "cell_type": "code",
      "metadata": {
        "id": "yVqDqPAz_tFU"
      },
      "source": [
        "# What is the probability that a randomly chosen father-son pair has\n",
        "# father height less than 70 in\n",
        "# and son height less than 65 in \n",
        "\n",
        "# Approximate probability using Monte-Carlo\n",
        "p = mean((X[, 1] < 70) & (X[, 2] < 65))\n",
        "cat(sprintf('Approximate probability using Monte-Carlo = %f\\n', p))\n",
        "\n",
        "# Approximate probability using bivariate normal distribution model\n",
        "# built using sample information\n",
        "p = pmvnorm(c(-Inf, -Inf), c(70, 65), mean = colMeans(X), sigma = cov(X))\n",
        "cat(sprintf('Approximate probability using bivariate normal distribution model built using sample information = %f\\n', p))"
      ],
      "execution_count": null,
      "outputs": []
    },
    {
      "cell_type": "code",
      "metadata": {
        "id": "ABQa6mG-CfVT"
      },
      "source": [
        "# Simulate a bivariate normal random variable with pre-specified\n",
        "# mean and covariance matrix\n",
        "mu = c(0, 0)\n",
        "Sigma = matrix(c(8, -3, -3, 2), nrow = 2, ncol = 2, byrow = TRUE)\n",
        "print('Mean vector = ')\n",
        "print(mu)\n",
        "print('Covariance matrix = ')\n",
        "print(Sigma)\n",
        "\n",
        "nsamples = 1e04\n",
        "X = rmvnorm(nsamples, mean = mu, sigma = Sigma)\n",
        "df = as.data.frame(X)\n",
        "colnames(df) = c('X1', 'X2')\n",
        "head(df, n = 5)\n",
        "\n",
        "# Scatter plot \n",
        "p4 = ggplot(data = df, aes(x = X1, y = X2)) + \n",
        "geom_point(size=2, alpha=0.7) + xlab(\"X_1\") + \n",
        "   ylab(\"X_2\") + ggtitle(\"Bivariate normal distribution\") +\n",
        "   coord_fixed(ratio = 1) +\n",
        "   stat_ellipse(level = 0.68, color = 'red')+\n",
        "   stat_ellipse(level = 0.95, color = 'green')+\n",
        "   stat_ellipse(level = 0.997, color = 'blue')\n",
        "p4"
      ],
      "execution_count": null,
      "outputs": []
    },
    {
      "cell_type": "code",
      "metadata": {
        "id": "S-iq3NALKOcG"
      },
      "source": [
        "# Calculate Mahalanobis distance from mean (father, son) pair\n",
        "X = as.matrix(dfFatherSon)\n",
        "#print(X)\n",
        "\n",
        "mu = colMeans(X) # mean (father, son) sample (think as sample mean vector)\n",
        "print('Mean (father, son) pair = ')\n",
        "print(mu)\n",
        "S = cov(X) # sample covariance matrix\n",
        "print('Sample covariance matrix')\n",
        "print(S)\n",
        "\n",
        "S_inverse = solve(S)  # inverse of sample covariance matrix\n",
        "print('inverse of S')\n",
        "print(S_inverse)\n",
        "\n",
        "print('S * S_inverse')\n",
        "print(S %*% S_inverse)\n",
        "\n",
        "M_distance = apply(X, 1, function(x){sqrt(t(x-mu) %*% S_inverse %*% (x-mu))})\n",
        "\n",
        "# Add Mahalanobis distance as new column of data frame\n",
        "dfFatherSon$MD = M_distance\n",
        "head(dfFatherSon, n = 5)"
      ],
      "execution_count": null,
      "outputs": []
    },
    {
      "cell_type": "code",
      "metadata": {
        "id": "GUUD5mDgR9t3"
      },
      "source": [
        "## Detect outliers\n",
        "# Add a new column to data frame for outliers (vary threshold to see effect)\n",
        "threshold = qchisq(0.95, 2)\n",
        "dfFatherSon$Outliers = ((dfFatherSon$MD)^2 >= threshold)\n",
        "head(dfFatherSon, n = 5)\n",
        "mean(dfFatherSon$Outliers == 'FALSE')\n",
        "\n",
        "# Plot outliers in the scatter plot\n",
        "# Scatter plot of fathers heights vs. sons heights\n",
        "p6 = ggplot(data = dfFatherSon, aes(x = fheight, y = sheight, color = Outliers)) + \n",
        "geom_point(size = 2, alpha = 0.7) + xlab(\"Height of father\") + \n",
        "   ylab(\"Height of son\") + ggtitle(\"Father-son Height Data Outliers\") +\n",
        "   coord_fixed(ratio = 1) +\n",
        "   stat_ellipse(level = 0.68, color = 'red')+\n",
        "   stat_ellipse(level = 0.95, color = 'green')+\n",
        "   stat_ellipse(level = 0.997, color = 'blue')\n",
        "p6\n"
      ],
      "execution_count": null,
      "outputs": []
    },
    {
      "cell_type": "markdown",
      "metadata": {
        "id": "Ni3iiBxq0Qc5"
      },
      "source": [
        "**Relationship between z-scores and Mahalanobis distance in 1D**"
      ]
    },
    {
      "cell_type": "code",
      "metadata": {
        "id": "Ml_FW-sJkze8"
      },
      "source": [
        "X = c(74, 76, 82, 80, 74 ) # heart rate vector\n",
        "mu = mean(X) # sample mean\n",
        "sigma = sd(X) # sample standard deviation\n",
        "Z = (X-mu)/sigma # standardize heart rate vector\n",
        "print('Heart rate vector')\n",
        "print(X)\n",
        "print('De-meaned heart rate vector')\n",
        "print(X-mu)\n",
        "print('Standardized heart rate vector')\n",
        "print(Z)\n",
        "\n",
        "S = cov(as.data.frame(X)) # sample covariance matrix\n",
        "S_inverse = solve(S) # inverse of sample covariance matrix\n",
        "M_distance = apply(as.matrix(X), 1, function(x){sqrt(t(x-mu) %*% S_inverse %*% (x-mu))})\n",
        "print('Mahalanobis distance')\n",
        "print(M_distance)"
      ],
      "execution_count": null,
      "outputs": []
    },
    {
      "cell_type": "code",
      "metadata": {
        "id": "dcjHm10Horaf"
      },
      "source": [
        "mu = 68\n",
        "sigma = 5\n",
        "simulatedData = rnorm(10000, mu, sigma) \n",
        "mean(abs(simulatedData - mu) <= 1*sigma)"
      ],
      "execution_count": null,
      "outputs": []
    },
    {
      "cell_type": "code",
      "metadata": {
        "id": "yeoqEPKNIbXb"
      },
      "source": [
        "# Plot the histogram for the square of the Mahalanobis distances\n",
        "k = 2\n",
        "# What is the probability that a randomly generated square-of-Mahalanobis-distance (in 2D)\n",
        "# has a probability of 68% of being less than or equal to that value\n",
        "qchisq(0.68, k)\n",
        "# What is the probability that a randomly generated Mahalanobis-distance (in 2D)\n",
        "# has a probability of 68% of being less than or equal to that value\n",
        "sqrt(qchisq(0.68, k)) # use this as threshold for checking MD"
      ],
      "execution_count": null,
      "outputs": []
    },
    {
      "cell_type": "code",
      "metadata": {
        "id": "BaUslHv81W5S"
      },
      "source": [
        "# Simulate a bivariate normal random variable with pre-specified\n",
        "# mean and covariance matrix\n",
        "mu = c(0, 0) # population mean \n",
        "Sigma = matrix(c(8, 3, 3, 2), nrow = 2, ncol = 2, byrow = TRUE) # population covariance matrix\n",
        "print('Mean vector = ')\n",
        "print(mu)\n",
        "print('Covariance matrix = ')\n",
        "print(Sigma)\n",
        "\n",
        "nsamples = 1e03\n",
        "X = rmvnorm(nsamples, mean = mu, sigma = Sigma)\n",
        "df = as.data.frame(X)\n",
        "colnames(df) = c('X1', 'X2')\n",
        "#head(df, n = 5)\n",
        "\n",
        "S_inverse = solve(Sigma) # inverse of population covariance matrix\n",
        "\n",
        "# Calculate Mahalanobis distance from the mean sample\n",
        "M_distance = apply(X, 1, function(x){sqrt(t(x-mu) %*% S_inverse %*% (x-mu))})\n",
        "\n",
        "# Add Mahalanobis distance as new column of data frame\n",
        "df$MD = M_distance\n",
        "\n",
        "# Add a new column to data frame for outliers (vary threshold to see effect)\n",
        "threshold = qchisq(0.68, 2) # note that the dimension is the second parameter\n",
        "df$Outliers = ((df$MD)^2 >= threshold)\n",
        "\n",
        "mean((df$MD)^2 < threshold)\n",
        "\n",
        "# Plot outliers in the scatter plot\n",
        "p7 = ggplot(data = df, aes(x = X1, y = X2, color = Outliers)) + \n",
        "geom_point(size = 2, alpha = 0.7) + xlab(\"X1\") + \n",
        "   ylab(\"X2\") + ggtitle(\"Sample From a Bivariate Normal Distribution\") +\n",
        "   coord_fixed(ratio = 1) +\n",
        "   stat_ellipse(level = 0.68, color = 'red')+\n",
        "   stat_ellipse(level = 0.95, color = 'green')+\n",
        "   stat_ellipse(level = 0.997, color = 'blue')\n",
        "p7\n"
      ],
      "execution_count": null,
      "outputs": []
    }
  ]
}