{
  "nbformat": 4,
  "nbformat_minor": 0,
  "metadata": {
    "colab": {
      "name": "AML5201_LinearRegressionSamplePopulationIntro_R.ipynb",
      "provenance": [],
      "collapsed_sections": []
    },
    "kernelspec": {
      "display_name": "R",
      "language": "R",
      "name": "ir"
    },
    "language_info": {
      "codemirror_mode": "r",
      "file_extension": ".r",
      "mimetype": "text/x-r-source",
      "name": "R",
      "pygments_lexer": "r",
      "version": "3.6.1"
    }
  },
  "cells": [
    {
      "cell_type": "code",
      "metadata": {
        "id": "Jk2_QTPtuQMw"
      },
      "source": [
        "# Approximating the sin function as a population model\n",
        "nsamples = 10000\n",
        "x = seq(0, 2*pi, length = nsamples)\n",
        "y = sin(x) + 0*rnorm(length(x), mean = 0, sd = 1)\n",
        "plot(x, y, type = 'l', lwd = 1, lty = 1)"
      ],
      "execution_count": null,
      "outputs": []
    },
    {
      "cell_type": "code",
      "metadata": {
        "id": "6duRs1k-0N9A"
      },
      "source": [
        "# Draw a random sample of indices \n",
        "nsamples = 2\n",
        "idx = sample (c(1:length(x)), size = nsamples, replace = F)\n",
        "print(idx)"
      ],
      "execution_count": null,
      "outputs": []
    },
    {
      "cell_type": "code",
      "metadata": {
        "id": "cQKRWYK30d0J"
      },
      "source": [
        "# Use randomly selected indices to select data points\n",
        "x_sample = x[idx]\n",
        "y_sample = y[idx]\n",
        "print(x_sample)\n",
        "print(y_sample)"
      ],
      "execution_count": null,
      "outputs": []
    },
    {
      "cell_type": "code",
      "metadata": {
        "id": "2MnUXFvg0Vyb"
      },
      "source": [
        "# Plot regression line built using dataset\n",
        "plot(x, y, type = 'l', lwd = 1, lty = 2)\n",
        "model = lm(y_sample~x_sample)\n",
        "beta_0_hat = summary(model)$coefficients[\"(Intercept)\", \"Estimate\"]\n",
        "beta_1_hat = summary(model)$coefficients[\"x_sample\", \"Estimate\"]\n",
        "abline(beta_0_hat, beta_1_hat, lwd = 1.5, col = 'blue')\n",
        "points(x_sample, y_sample, col = 'blue', pch = 19, cex = 1.5)"
      ],
      "execution_count": null,
      "outputs": []
    },
    {
      "cell_type": "code",
      "metadata": {
        "id": "t2DRLF_8AEkR"
      },
      "source": [
        "# Plot constant line built using dataset\n",
        "plot(x, y, type = 'l', lwd = 1, lty = 2)\n",
        "beta_0_hat = mean(y_sample)\n",
        "beta_1_hat = 0\n",
        "abline(beta_0_hat, beta_1_hat, lwd = 1.5, col = 'blue')\n",
        "points(x_sample, y_sample, col = 'blue', pch = 19, cex = 1.5)"
      ],
      "execution_count": null,
      "outputs": []
    },
    {
      "cell_type": "code",
      "metadata": {
        "id": "xGJ30tCc03SG"
      },
      "source": [
        "# Plot regression line obtained using multiple datasets\n",
        "plot(x , y, type = 'l', lty = 2, lwd = 1, col = \"black\", xlab = \"x\", ylab = \"y\", cex.lab = 1.5)\n",
        "ndatasets = 10 # similar to nsimulations or nsamples\n",
        "samplesize = 16\n",
        "for (j in seq(1, ndatasets)) {\n",
        "  idx = sample (c(1:length(x)), size = samplesize, replace = F)\n",
        "  x_sample = x[idx]\n",
        "  y_sample = y[idx]\n",
        "  model = lm(y_sample~x_sample)\n",
        "  beta_0_hat = summary(model)$coefficients[\"(Intercept)\", \"Estimate\"]\n",
        "  beta_1_hat = summary(model)$coefficients[\"x_sample\", \"Estimate\"]\n",
        "  abline(beta_0_hat, beta_1_hat, lwd=1.5, col = j)  \n",
        "  points(x_sample, y_sample, col = j, pch = 19, cex = 1.5)\n",
        "}"
      ],
      "execution_count": null,
      "outputs": []
    },
    {
      "cell_type": "code",
      "metadata": {
        "id": "_xdQEa_W1FTM"
      },
      "source": [
        "# Plot output of constant model obtained using several datasets\n",
        "plot(x , y, type = \"l\", lty = 2, lwd = 1, col = \"black\", xlab = \"x\", ylab = \"y\", cex.lab = 1.5)\n",
        "ndatasets = 10\n",
        "samplesize = 2\n",
        "for (j in seq(1, ndatasets)) {\n",
        "  idx = sample (c(1:length(x)), size = samplesize, replace = F)\n",
        "  x_sample = x[idx]\n",
        "  y_sample = y[idx]\n",
        "  beta_0_hat = mean(y_sample)\n",
        "  beta_1_hat = 0\n",
        "  abline(beta_0_hat, beta_1_hat, lwd=1.5, col = j) \n",
        "  points(x_sample, y_sample, col = j, pch = 19, cex = 1.5)\n",
        "}"
      ],
      "execution_count": null,
      "outputs": []
    },
    {
      "cell_type": "code",
      "metadata": {
        "id": "1OFBQcZZ1gPr"
      },
      "source": [
        "# Plot the average output of all regression lines\n",
        "plot(x , y, type = 'l', lwd = 1, lty = 2, col = \"black\", xlab = \"x\", ylab = \"y\", cex.lab = 1.5)\n",
        "ndatasets = 1000\n",
        "samplesize = 2\n",
        "for (j in seq(1,ndatasets)) {\n",
        "  idx = sample (c(1:length(x)), size = samplesize, replace = F)\n",
        "  x_sample = x[idx]\n",
        "  y_sample = y[idx]\n",
        "  model = lm(y_sample~x_sample)\n",
        "  beta_0_hat[j] = summary(model)$coefficients[\"(Intercept)\", \"Estimate\"]\n",
        "  beta_1_hat[j] = summary(model)$coefficients[\"x_sample\", \"Estimate\"]\n",
        "}\n",
        "beta_0_hat_avg = mean(beta_0_hat)\n",
        "beta_1_hat_avg = mean(beta_1_hat)\n",
        "abline(a = beta_0_hat_avg, b = beta_1_hat_avg, lwd = 2.5, lty = 2, col =  'red')"
      ],
      "execution_count": null,
      "outputs": []
    },
    {
      "cell_type": "code",
      "metadata": {
        "id": "L8fXBjWv4Wcl"
      },
      "source": [
        "# Plot the average output of all constant models\n",
        "plot(x , y, type = 'l', lwd = 1, lty = 2, col = \"black\", xlab = \"x\", ylab = \"y\", cex.lab = 1.5)\n",
        "ndatasets = 1000\n",
        "samplesize = 2\n",
        "for (j in seq(1,ndatasets)) {\n",
        "  idx = sample (c(1:length(x)), size = samplesize, replace = F)\n",
        "  x_sample = x[idx]\n",
        "  y_sample = y[idx]\n",
        "  beta_0_hat[j] = mean(y_sample)\n",
        "  beta_1_hat[j] = 0  \n",
        "}\n",
        "beta_0_hat_avg = mean(beta_0_hat)\n",
        "beta_1_hat_avg = mean(beta_1_hat)\n",
        "abline(a = beta_0_hat_avg, b = beta_1_hat_avg, lwd = 2.5, lty = 2, col = 'red')"
      ],
      "execution_count": null,
      "outputs": []
    }
  ]
}