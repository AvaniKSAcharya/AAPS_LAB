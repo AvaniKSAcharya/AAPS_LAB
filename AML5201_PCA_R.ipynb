{
  "nbformat": 4,
  "nbformat_minor": 0,
  "metadata": {
    "kernelspec": {
      "display_name": "R",
      "language": "R",
      "name": "ir"
    },
    "language_info": {
      "codemirror_mode": "r",
      "file_extension": ".r",
      "mimetype": "text/x-r-source",
      "name": "R",
      "pygments_lexer": "r",
      "version": "3.3.1"
    },
    "colab": {
      "name": "AML5201_PCA_R.ipynb",
      "provenance": [],
      "collapsed_sections": []
    }
  },
  "cells": [
    {
      "cell_type": "markdown",
      "metadata": {
        "id": "cBwU1D1ib2o6"
      },
      "source": [
        "**Load essential libraries**"
      ]
    },
    {
      "cell_type": "code",
      "metadata": {
        "id": "4DhQTLweb138"
      },
      "source": [
        "library(ggplot2) # library for plotting\n",
        "library(dplyr) # library for data wrangling"
      ],
      "execution_count": null,
      "outputs": []
    },
    {
      "cell_type": "code",
      "metadata": {
        "id": "6IROuoYjM7pq"
      },
      "source": [
        "## Load data - refer to http://openmv.net/info/food-texture for data description \n",
        "file = 'http://openmv.net/file/food-texture.csv'\n",
        "foodData = read.csv(file, header = TRUE, row.names = 1)\n",
        "## Print structure of data frame\n",
        "str(foodData)"
      ],
      "execution_count": null,
      "outputs": []
    },
    {
      "cell_type": "code",
      "metadata": {
        "id": "Osm3V-ix4CvU"
      },
      "source": [
        "## Print first 5 samples of data frame\n",
        "head(foodData, n = 5)"
      ],
      "execution_count": null,
      "outputs": []
    },
    {
      "cell_type": "code",
      "metadata": {
        "id": "jglloopNLWCZ"
      },
      "source": [
        "## Modify data frame\n",
        "# Modify crispy column to reflect high (0) and low (1) crispness\n",
        "foodData = foodData %>% mutate(Crispy = ifelse(Crispy > 11, 'high', 'low'))\n",
        "\n",
        "# Change Crispy column to factor type\n",
        "foodData['Crispy'] = lapply(foodData['Crispy'], factor)"
      ],
      "execution_count": null,
      "outputs": []
    },
    {
      "cell_type": "code",
      "metadata": {
        "id": "CdwwmrQ3PydO"
      },
      "source": [
        "## Print structure of modified data frame\n",
        "str(foodData)"
      ],
      "execution_count": null,
      "outputs": []
    },
    {
      "cell_type": "code",
      "metadata": {
        "id": "KQkF_NmGN2gS"
      },
      "source": [
        "## Print first 5 samples of modified data frame\n",
        "head(foodData, n = 5)"
      ],
      "execution_count": null,
      "outputs": []
    },
    {
      "cell_type": "code",
      "metadata": {
        "id": "ClvfDDEa_DD6"
      },
      "source": [
        "## Scatter plot between Density (x-axis) and Hardness (y-axis)\n",
        "p1 = ggplot(data = foodData, aes(x = Density, y = Hardness)) +\n",
        "  geom_point(size = 1) \n",
        "p1"
      ],
      "execution_count": null,
      "outputs": []
    },
    {
      "cell_type": "code",
      "metadata": {
        "id": "8uBvDdJpOEMm"
      },
      "source": [
        "## Scatter plot between Density (x-axis) and Hardness (y-axis) color coded using Crispy\n",
        "p2 = ggplot(data = foodData, aes(x = Density, y = Hardness, color = factor(Crispy))) +\n",
        "  geom_point(size = 1) \n",
        "p2"
      ],
      "execution_count": null,
      "outputs": []
    },
    {
      "cell_type": "code",
      "metadata": {
        "id": "sFrC5vagK43t"
      },
      "source": [
        "## Print correlation between Density and Hardness\n",
        "cor(foodData$Density, foodData$Hardness, method = 'pearson')"
      ],
      "execution_count": null,
      "outputs": []
    },
    {
      "cell_type": "code",
      "metadata": {
        "id": "rLOGgEaBy5Bv"
      },
      "source": [
        "# Correlation between the continuous features \n",
        "print(cor(foodData %>% select(-c('Crispy'))))"
      ],
      "execution_count": null,
      "outputs": []
    },
    {
      "cell_type": "code",
      "metadata": {
        "id": "vo9VRxfP8_dJ"
      },
      "source": [
        "## Select data frame consisiting of two features: Density, Hardness, & Crispy\n",
        "foodData3 = foodData %>% select(c('Density', 'Hardness', 'Crispy'))"
      ],
      "execution_count": null,
      "outputs": []
    },
    {
      "cell_type": "code",
      "metadata": {
        "id": "MMpYBHqWyhAS"
      },
      "source": [
        "head(foodData3, n = 5)"
      ],
      "execution_count": null,
      "outputs": []
    },
    {
      "cell_type": "code",
      "source": [
        "# Mean center the data matrix\n",
        "X = as.matrix(foodData3 %>% select(-c('Crispy')))\n",
        "X_m = X - rep(1, nrow(X)) %*% t(colMeans(X))"
      ],
      "metadata": {
        "id": "hrzomDCd9Sqi"
      },
      "execution_count": null,
      "outputs": []
    },
    {
      "cell_type": "code",
      "source": [
        "# Calculate the sample covariance matrix\n",
        "S = (1/(nrow(X_m)-1))*t(X_m) %*% X\n",
        "print(S)\n",
        "S = cov(foodData3 %>% select(-c('Crispy')))\n",
        "print(S)"
      ],
      "metadata": {
        "id": "pdtrBscd99T9"
      },
      "execution_count": null,
      "outputs": []
    },
    {
      "cell_type": "code",
      "source": [
        "# Calculate eigenvalues & eigenvectors of sample covariance matrix\n",
        "e = eigen(S)\n",
        "V = e$vectors\n",
        "lambda = e$values \n",
        "print(V)\n",
        "print(lambda)"
      ],
      "metadata": {
        "id": "rKd7_wrS-5J4"
      },
      "execution_count": null,
      "outputs": []
    },
    {
      "cell_type": "code",
      "metadata": {
        "id": "3rkT7ZASfIVf"
      },
      "source": [
        "## Project samples onto the direction of the first and second eigenvectors\n",
        "\n",
        "V = -V \n",
        "# Calculate shadow length of data\n",
        "shadowLength1 = X %*% V[, 1]\n",
        "shadowLength1 = as.numeric(shadowLength1)\n",
        "shadowLength2 = X %*% V[, 2]\n",
        "shadowLength2 = as.numeric(shadowLength2)\n",
        "\n",
        "# Vector projection\n",
        "projectedSamples1 = V[, 1] %*% t(as.matrix(shadowLength1))\n",
        "projectedSamples2 = V[, 2] %*% t(as.matrix(shadowLength2))"
      ],
      "execution_count": null,
      "outputs": []
    },
    {
      "cell_type": "code",
      "metadata": {
        "id": "--CwX2ZgPaZk"
      },
      "source": [
        "## Scatter plot of Density and Hardness, color coded using Crispy and first\n",
        "## two eigenvectors with the projected data on to the first principal direction\n",
        "## also color coded using Crispy\n",
        "V = -V # this is a minor adjustment to flip the sign of the eigenvectors\n",
        "p3 = foodData3 %>% ggplot(aes(x = Density, y = Hardness, color = factor(Crispy))) +\n",
        "  geom_point(size = 1) +\n",
        "  geom_segment(aes(x = 0, y = 0, xend = 100*V[1, 1], yend = 100*V[2, 1]), size = 0.5,\n",
        "   arrow = arrow(length = unit(0.1,\"cm\")), color = 'red') +\n",
        "  geom_segment(aes(x = 0, y = 0, xend = 100*V[1, 2], yend = 100*V[2, 2]), size = 0.5,\n",
        "   arrow = arrow(length = unit(0.1,\"cm\")), color = 'blue') +\n",
        "  geom_point(aes(x = projectedSamples1[1, ], y = projectedSamples1[2, ], color = factor(Crispy)), shape = 4, size = 2.0) \n",
        "p3"
      ],
      "execution_count": null,
      "outputs": []
    },
    {
      "cell_type": "code",
      "metadata": {
        "id": "LZBnTQqBaLEu"
      },
      "source": [
        "## Scatter plot of Density and Hardness, color coded using Crispy and first\n",
        "## two eigenvectors with the projected data on to the second principal direction\n",
        "## also color coded using Crispy\n",
        "p4 = foodData3 %>% ggplot(aes(x = Density, y = Hardness, color = factor(Crispy))) +\n",
        "  geom_point(size = 1) +\n",
        "  geom_segment(aes(x = 0, y = 0, xend = 100*V[1, 1], yend = 100*V[2, 1]), size = 0.5,\n",
        "   arrow = arrow(length = unit(0.1,\"cm\")), color = 'red') +\n",
        "  geom_segment(aes(x = 0, y = 0, xend = 100*V[1, 2], yend = 100*V[2, 2]), size = 0.5,\n",
        "   arrow = arrow(length = unit(0.1,\"cm\")), color = 'blue') +\n",
        "  geom_point(aes(x = projectedSamples2[1, ], y = projectedSamples2[2, ], color = factor(Crispy)), shape = 4, size = 2.0) \n",
        "p4"
      ],
      "execution_count": null,
      "outputs": []
    }
  ]
}